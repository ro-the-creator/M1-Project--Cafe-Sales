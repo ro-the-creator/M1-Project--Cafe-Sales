{
 "cells": [
  {
   "cell_type": "markdown",
   "id": "d3f3866c",
   "metadata": {},
   "source": [
    "## Step 1: Import Pandas, Numpy, and Data"
   ]
  },
  {
   "cell_type": "code",
   "execution_count": 58,
   "id": "9419ec0c",
   "metadata": {},
   "outputs": [],
   "source": [
    "import pandas as pd\n",
    "import numpy as np"
   ]
  },
  {
   "cell_type": "code",
   "execution_count": 59,
   "id": "aee61aea",
   "metadata": {},
   "outputs": [],
   "source": [
    "cafeData = pd.read_csv('/Users/Marcy_Student/M1-Project--Cafe-Sales/Data/dirty_cafe_sales.csv')"
   ]
  },
  {
   "cell_type": "code",
   "execution_count": 60,
   "id": "70ba6297",
   "metadata": {},
   "outputs": [
    {
     "name": "stdout",
     "output_type": "stream",
     "text": [
      "<class 'pandas.core.frame.DataFrame'>\n",
      "RangeIndex: 10000 entries, 0 to 9999\n",
      "Data columns (total 8 columns):\n",
      " #   Column            Non-Null Count  Dtype \n",
      "---  ------            --------------  ----- \n",
      " 0   Transaction ID    10000 non-null  object\n",
      " 1   Item              9667 non-null   object\n",
      " 2   Quantity          9862 non-null   object\n",
      " 3   Price Per Unit    9821 non-null   object\n",
      " 4   Total Spent       9827 non-null   object\n",
      " 5   Payment Method    7421 non-null   object\n",
      " 6   Location          6735 non-null   object\n",
      " 7   Transaction Date  9841 non-null   object\n",
      "dtypes: object(8)\n",
      "memory usage: 625.1+ KB\n"
     ]
    }
   ],
   "source": [
    "cafeData.info()"
   ]
  },
  {
   "cell_type": "code",
   "execution_count": 61,
   "id": "f3c54d70",
   "metadata": {},
   "outputs": [
    {
     "name": "stdout",
     "output_type": "stream",
     "text": [
      "Missing values for each column \n",
      " Transaction ID: 0  \n",
      " Item: 333 \n",
      " Quantity: 138 \n",
      " Price Per Unit: 179 \n",
      " Total Spenet: 173 \n",
      " Payment Method: 2579 \n",
      " Location: 3265 \n",
      " Transaction Date: 159\n"
     ]
    }
   ],
   "source": [
    "# Step 1: Calculate Differences\n",
    "tIDdiff = cafeData[\"Transaction ID\"].count()\n",
    "idiff = cafeData[\"Item\"].count()\n",
    "qdiff= cafeData[\"Quantity\"].count()\n",
    "ppudiff = cafeData[\"Price Per Unit\"].count()\n",
    "tsdiff = cafeData[\"Total Spent\"].count()\n",
    "PMdiff = cafeData[\"Payment Method\"].count()\n",
    "ldiff = cafeData[\"Location\"].count()\n",
    "TDdiff = cafeData[\"Transaction Date\"].count()\n",
    "diff1= 10000 - tIDdiff\n",
    "diff2 = 10000 - idiff\n",
    "diff3 = 10000 - qdiff\n",
    "diff4 = 10000 - ppudiff\n",
    "diff5 = 10000 - tsdiff\n",
    "diff6 = 10000 - PMdiff\n",
    "diff7 = 10000 - ldiff\n",
    "diff8 = 10000 - TDdiff\n",
    "print(f'Missing values for each column \\n Transaction ID: {diff1}  \\n Item: {diff2} \\n Quantity: {diff3} \\n Price Per Unit: {diff4} \\n Total Spenet: {diff5} \\n Payment Method: {diff6} \\n Location: {diff7} \\n Transaction Date: {diff8}')"
   ]
  },
  {
   "cell_type": "markdown",
   "id": "fac4e135",
   "metadata": {},
   "source": [
    "## Step 2: Replace all missing values with 0 so it can be converted to the proper data type"
   ]
  },
  {
   "cell_type": "code",
   "execution_count": 62,
   "id": "d43128c6",
   "metadata": {},
   "outputs": [],
   "source": [
    "# Replace Quantity Missing Values\n",
    "cafeData['Quantity'] = cafeData['Quantity'].replace('UNKNOWN', 0)\n",
    "cafeData['Quantity'] = cafeData['Quantity'].replace(\"ERROR\", 0)\n",
    "cafeData['Quantity'] = cafeData['Quantity'].fillna(0)\n"
   ]
  },
  {
   "cell_type": "code",
   "execution_count": 63,
   "id": "27d47892",
   "metadata": {},
   "outputs": [],
   "source": [
    "# Replace PPU Missing Values\n",
    "cafeData[['Price Per Unit','Total Spent' ]] = cafeData[['Price Per Unit','Total Spent' ]].replace('UNKNOWN', 0)\n",
    "cafeData[['Price Per Unit','Total Spent' ]] = cafeData[['Price Per Unit','Total Spent' ]].replace(\"ERROR\", 0)\n",
    "cafeData[['Price Per Unit','Total Spent' ]] = cafeData[['Price Per Unit','Total Spent' ]].fillna(0)"
   ]
  },
  {
   "cell_type": "code",
   "execution_count": 64,
   "id": "ef850af8",
   "metadata": {},
   "outputs": [],
   "source": [
    "# Replace Transaction Date Missing Values\n",
    "cafeData['Transaction Date'] = cafeData['Transaction Date'].replace('UNKNOWN', \"2025-06-17\")\n",
    "cafeData['Transaction Date'] = cafeData['Transaction Date'].replace(\"ERROR\", \"2025-06-17\")\n",
    "cafeData['Transaction Date'] = cafeData['Transaction Date'].fillna(\"2025-06-17\")"
   ]
  },
  {
   "cell_type": "code",
   "execution_count": 65,
   "id": "5f02007b",
   "metadata": {},
   "outputs": [],
   "source": [
    "# Replace Item Missing Values\n",
    "cafeData['Item'] = cafeData['Item'].replace('UNKNOWN', \"No Data\")\n",
    "cafeData['Item'] = cafeData['Item'].replace(\"ERROR\", \"No Data\")\n",
    "cafeData['Item'] = cafeData['Item'].replace(\"nan\", \"No Data\")\n",
    "cafeData['Item'] = cafeData['Item'].fillna(\"No Data\")\n"
   ]
  },
  {
   "cell_type": "markdown",
   "id": "625bef16",
   "metadata": {},
   "source": [
    "## Step 3: Convert Data Types"
   ]
  },
  {
   "cell_type": "code",
   "execution_count": 66,
   "id": "76574933",
   "metadata": {},
   "outputs": [
    {
     "name": "stdout",
     "output_type": "stream",
     "text": [
      "<class 'pandas.core.frame.DataFrame'>\n",
      "RangeIndex: 10000 entries, 0 to 9999\n",
      "Data columns (total 8 columns):\n",
      " #   Column            Non-Null Count  Dtype         \n",
      "---  ------            --------------  -----         \n",
      " 0   Transaction ID    10000 non-null  object        \n",
      " 1   Item              10000 non-null  object        \n",
      " 2   Quantity          10000 non-null  int64         \n",
      " 3   Price Per Unit    10000 non-null  float64       \n",
      " 4   Total Spent       10000 non-null  float64       \n",
      " 5   Payment Method    10000 non-null  object        \n",
      " 6   Location          10000 non-null  object        \n",
      " 7   Transaction Date  10000 non-null  datetime64[ns]\n",
      "dtypes: datetime64[ns](1), float64(2), int64(1), object(4)\n",
      "memory usage: 625.1+ KB\n"
     ]
    }
   ],
   "source": [
    "cafeData[['Transaction ID','Item','Payment Method','Location']] = cafeData[['Transaction ID','Item','Payment Method','Location']].astype(str)\n",
    "cafeData['Quantity'] = cafeData['Quantity'].astype(int)\n",
    "cafeData[['Price Per Unit','Total Spent' ]] = cafeData[['Price Per Unit','Total Spent' ]].astype(float)\n",
    "cafeData['Transaction Date'] = pd.to_datetime(cafeData['Transaction Date'])\n",
    "cafeData.info()\n"
   ]
  },
  {
   "cell_type": "markdown",
   "id": "ce0677b8",
   "metadata": {},
   "source": [
    "## Step 3.5: Check Counts for fillable columns and make sure there are no duplicates that will interfere with EDA"
   ]
  },
  {
   "cell_type": "code",
   "execution_count": 67,
   "id": "090fb730",
   "metadata": {},
   "outputs": [
    {
     "name": "stdout",
     "output_type": "stream",
     "text": [
      "0\n"
     ]
    }
   ],
   "source": [
    "print(cafeData['Transaction ID'].duplicated().sum())"
   ]
  },
  {
   "cell_type": "code",
   "execution_count": 68,
   "id": "f67017fa",
   "metadata": {},
   "outputs": [
    {
     "data": {
      "text/plain": [
       "Total Spent\n",
       "6.0     979\n",
       "12.0    939\n",
       "3.0     930\n",
       "4.0     923\n",
       "20.0    746\n",
       "15.0    734\n",
       "8.0     677\n",
       "10.0    524\n",
       "0.0     502\n",
       "2.0     497\n",
       "9.0     479\n",
       "5.0     468\n",
       "16.0    444\n",
       "25.0    259\n",
       "7.5     237\n",
       "1.0     232\n",
       "4.5     225\n",
       "1.5     205\n",
       "Name: count, dtype: int64"
      ]
     },
     "execution_count": 68,
     "metadata": {},
     "output_type": "execute_result"
    }
   ],
   "source": [
    "# Count 'Total Spent' Values\n",
    "# Note : 0's are missing values\n",
    "cafeData['Total Spent'].value_counts()"
   ]
  },
  {
   "cell_type": "code",
   "execution_count": 69,
   "id": "0cafbe2a",
   "metadata": {},
   "outputs": [
    {
     "data": {
      "text/plain": [
       "Quantity\n",
       "5    2013\n",
       "2    1974\n",
       "4    1863\n",
       "3    1849\n",
       "1    1822\n",
       "0     479\n",
       "Name: count, dtype: int64"
      ]
     },
     "execution_count": 69,
     "metadata": {},
     "output_type": "execute_result"
    }
   ],
   "source": [
    "# Count 'Quantity' Values\n",
    "# Note : 0's are missing values\n",
    "cafeData['Quantity'].value_counts()"
   ]
  },
  {
   "cell_type": "code",
   "execution_count": 70,
   "id": "d0e115f7",
   "metadata": {},
   "outputs": [
    {
     "data": {
      "text/plain": [
       "Price Per Unit\n",
       "3.0    2429\n",
       "4.0    2331\n",
       "2.0    1227\n",
       "5.0    1204\n",
       "1.0    1143\n",
       "1.5    1133\n",
       "0.0     533\n",
       "Name: count, dtype: int64"
      ]
     },
     "execution_count": 70,
     "metadata": {},
     "output_type": "execute_result"
    }
   ],
   "source": [
    "# Count 'Price Per Unit' Values\n",
    "# Note : 0's are missing values\n",
    "cafeData['Price Per Unit'].value_counts()"
   ]
  },
  {
   "cell_type": "code",
   "execution_count": 71,
   "id": "a5607ac5",
   "metadata": {},
   "outputs": [
    {
     "data": {
      "text/plain": [
       "Item\n",
       "Juice       1171\n",
       "Coffee      1165\n",
       "Salad       1148\n",
       "Cake        1139\n",
       "Sandwich    1131\n",
       "Smoothie    1096\n",
       "Cookie      1092\n",
       "Tea         1089\n",
       "No Data      969\n",
       "Name: count, dtype: int64"
      ]
     },
     "execution_count": 71,
     "metadata": {},
     "output_type": "execute_result"
    }
   ],
   "source": [
    "# Count 'Item' Values\n",
    "# Note : 0's are missing values\n",
    "cafeData['Item'].value_counts()"
   ]
  },
  {
   "cell_type": "markdown",
   "id": "30d06dc9",
   "metadata": {},
   "source": [
    "## Step 4: Fill in what we can with the data we have"
   ]
  },
  {
   "cell_type": "code",
   "execution_count": 72,
   "id": "60b92218",
   "metadata": {},
   "outputs": [],
   "source": [
    "# Use PPU, Quantity, and Total Spent to calculate each other\n",
    "for index, row in cafeData.iterrows():\n",
    "    qty = row['Quantity']\n",
    "    ppu = row['Price Per Unit']\n",
    "    total = row['Total Spent']\n",
    "    \n",
    "\n",
    "    if (pd.isna(total) or total == 0) and qty > 0 and ppu > 0:\n",
    "        cafeData.at[index, 'Total Spent'] = qty * ppu\n",
    "    \n",
    "\n",
    "    elif (pd.isna(ppu) or ppu == 0) and qty > 0 and total > 0:\n",
    "        cafeData.at[index, 'Price Per Unit'] = total / qty\n",
    "\n",
    "\n",
    "    elif (pd.isna(qty) or qty == 0) and ppu > 0 and total > 0:\n",
    "        cafeData.at[index, 'Quantity'] = total / ppu\n"
   ]
  },
  {
   "cell_type": "code",
   "execution_count": 73,
   "id": "ba79e224",
   "metadata": {},
   "outputs": [],
   "source": [
    "# Defines Item by PPU\n",
    "cafeData.loc[cafeData['Price Per Unit'] == 1, 'Item'] = 'Cookie'\n",
    "cafeData.loc[cafeData['Price Per Unit'] == 1.5, 'Item'] = 'Tea'\n",
    "cafeData.loc[cafeData['Price Per Unit'] == 2, 'Item'] = 'Coffee'\n",
    "cafeData.loc[(cafeData['Item'] == 'No Data') & (cafeData['Price Per Unit'] == 3.0), 'Item'] = 'Cake, Juice'\n",
    "cafeData.loc[(cafeData['Item'] == 'No Data') & (cafeData['Price Per Unit'] == 4.0), 'Item'] = 'Sandwich, Smoothie'\n",
    "cafeData.loc[cafeData['Price Per Unit'] == 5, 'Item'] = 'Salad'\n",
    "\n",
    "\n"
   ]
  },
  {
   "cell_type": "code",
   "execution_count": 74,
   "id": "f8b0fe95",
   "metadata": {},
   "outputs": [],
   "source": [
    "#Defines PPU by Item\n",
    "\n",
    "cafeData.loc[cafeData['Item'] == 'Cookie', 'Price Per Unit'] = 1\n",
    "cafeData.loc[cafeData['Item'] == 'Tea', 'Price Per Unit'] = 1.5\n",
    "cafeData.loc[cafeData['Item'] == 'Coffee', 'Price Per Unit'] = 2\n",
    "cafeData.loc[cafeData['Item'] == 'Cake', 'Price Per Unit'] = 3\n",
    "cafeData.loc[cafeData['Item'] == 'Juice', 'Price Per Unit'] = 3\n",
    "cafeData.loc[cafeData['Item'] == 'Sandwich', 'Price Per Unit'] = 4\n",
    "cafeData.loc[cafeData['Item'] == 'Smoothie', 'Price Per Unit'] = 4\n",
    "cafeData.loc[cafeData['Item'] == 'Salad', 'Price Per Unit'] = 5"
   ]
  },
  {
   "cell_type": "code",
   "execution_count": 75,
   "id": "d70e0825",
   "metadata": {},
   "outputs": [],
   "source": [
    "# Use PPU, Quantity, and Total Spent to calculate each other\n",
    "for index, row in cafeData.iterrows():\n",
    "    qty = row['Quantity']\n",
    "    ppu = row['Price Per Unit']\n",
    "    total = row['Total Spent']\n",
    "    \n",
    "\n",
    "    if (pd.isna(total) or total == 0) and qty > 0 and ppu > 0:\n",
    "        cafeData.at[index, 'Total Spent'] = qty * ppu\n",
    "    \n",
    "\n",
    "    elif (pd.isna(ppu) or ppu == 0) and qty > 0 and total > 0:\n",
    "        cafeData.at[index, 'Price Per Unit'] = total / qty\n",
    "\n",
    "\n",
    "    elif (pd.isna(qty) or qty == 0) and ppu > 0 and total > 0:\n",
    "        cafeData.at[index, 'Quantity'] = total / ppu\n"
   ]
  },
  {
   "cell_type": "markdown",
   "id": "8c1617b0",
   "metadata": {},
   "source": [
    "## Step 5: Make sure Data is cleaned as much as it can be without making assumptions"
   ]
  },
  {
   "cell_type": "code",
   "execution_count": 76,
   "id": "ade7cf89",
   "metadata": {},
   "outputs": [
    {
     "name": "stdout",
     "output_type": "stream",
     "text": [
      "     Transaction ID     Item  Quantity  Price Per Unit  Total Spent  \\\n",
      "1761    TXN_3611851  No Data         4             0.0          0.0   \n",
      "2289    TXN_7524977  No Data         4             0.0          0.0   \n",
      "3779    TXN_7376255  No Data         0             0.0         25.0   \n",
      "4152    TXN_9646000  No Data         2             0.0          0.0   \n",
      "7597    TXN_1082717  No Data         0             0.0          9.0   \n",
      "9819    TXN_1208561  No Data         0             0.0         20.0   \n",
      "\n",
      "      Payment Method  Location Transaction Date  \n",
      "1761     Credit Card       nan       2023-02-09  \n",
      "2289           ERROR       nan       2023-12-09  \n",
      "3779             nan  In-store       2023-05-27  \n",
      "4152             nan  In-store       2023-12-14  \n",
      "7597  Digital Wallet  In-store       2023-12-13  \n",
      "9819     Credit Card       nan       2023-08-19  \n"
     ]
    }
   ],
   "source": [
    "# Looks at where there is no Item Data to make sure it can't be calculated\n",
    "print(cafeData[cafeData['Item'] == 'No Data'])"
   ]
  },
  {
   "cell_type": "code",
   "execution_count": 77,
   "id": "c8e13228",
   "metadata": {},
   "outputs": [
    {
     "name": "stdout",
     "output_type": "stream",
     "text": [
      "     Transaction ID      Item  Quantity  Price Per Unit  Total Spent  \\\n",
      "236     TXN_8562645     Salad         0             5.0          0.0   \n",
      "278     TXN_3229409     Juice         0             3.0          0.0   \n",
      "641     TXN_2962976     Juice         0             3.0          0.0   \n",
      "738     TXN_8696094  Sandwich         0             4.0          0.0   \n",
      "1761    TXN_3611851   No Data         4             0.0          0.0   \n",
      "2289    TXN_7524977   No Data         4             0.0          0.0   \n",
      "2796    TXN_9188692      Cake         0             3.0          0.0   \n",
      "3203    TXN_4565754  Smoothie         0             4.0          0.0   \n",
      "3224    TXN_6297232    Coffee         0             2.0          0.0   \n",
      "3401    TXN_3251829       Tea         0             1.5          0.0   \n",
      "4152    TXN_9646000   No Data         2             0.0          0.0   \n",
      "4257    TXN_6470865    Coffee         0             2.0          0.0   \n",
      "5841    TXN_5884081    Cookie         0             1.0          0.0   \n",
      "7029    TXN_4628338    Coffee         0             2.0          0.0   \n",
      "7297    TXN_9944500  Smoothie         0             4.0          0.0   \n",
      "8021    TXN_2428781     Salad         0             5.0          0.0   \n",
      "8443    TXN_2023651  Sandwich         0             4.0          0.0   \n",
      "8465    TXN_9669616    Coffee         0             2.0          0.0   \n",
      "8479    TXN_1547245  Sandwich         0             4.0          0.0   \n",
      "8574    TXN_2546684     Juice         0             3.0          0.0   \n",
      "8732    TXN_4550558    Cookie         0             1.0          0.0   \n",
      "9590    TXN_9924732  Sandwich         0             4.0          0.0   \n",
      "9869    TXN_1975184    Coffee         0             2.0          0.0   \n",
      "\n",
      "      Payment Method  Location Transaction Date  \n",
      "236              nan  In-store       2023-05-18  \n",
      "278             Cash  Takeaway       2023-04-15  \n",
      "641              nan       nan       2023-03-17  \n",
      "738              nan  Takeaway       2023-05-14  \n",
      "1761     Credit Card       nan       2023-02-09  \n",
      "2289           ERROR       nan       2023-12-09  \n",
      "2796     Credit Card       nan       2023-12-01  \n",
      "3203  Digital Wallet  Takeaway       2023-10-06  \n",
      "3224             nan       nan       2023-04-07  \n",
      "3401  Digital Wallet  In-store       2023-07-25  \n",
      "4152             nan  In-store       2023-12-14  \n",
      "4257  Digital Wallet  Takeaway       2023-09-18  \n",
      "5841  Digital Wallet  In-store       2023-07-05  \n",
      "7029            Cash       nan       2023-12-25  \n",
      "7297            Cash  In-store       2023-01-03  \n",
      "8021             nan  In-store       2023-05-09  \n",
      "8443            Cash  In-store       2023-05-25  \n",
      "8465             nan     ERROR       2023-06-03  \n",
      "8479             nan  Takeaway       2023-09-11  \n",
      "8574  Digital Wallet  Takeaway       2023-04-08  \n",
      "8732     Credit Card  In-store       2023-08-04  \n",
      "9590     Credit Card  In-store       2023-01-18  \n",
      "9869  Digital Wallet       nan       2023-01-15  \n"
     ]
    }
   ],
   "source": [
    "print(cafeData[cafeData['Total Spent'] == 0])"
   ]
  },
  {
   "cell_type": "code",
   "execution_count": 78,
   "id": "10fdb91b",
   "metadata": {},
   "outputs": [
    {
     "name": "stdout",
     "output_type": "stream",
     "text": [
      "     Transaction ID      Item  Quantity  Price Per Unit  Total Spent  \\\n",
      "236     TXN_8562645     Salad         0             5.0          0.0   \n",
      "278     TXN_3229409     Juice         0             3.0          0.0   \n",
      "641     TXN_2962976     Juice         0             3.0          0.0   \n",
      "738     TXN_8696094  Sandwich         0             4.0          0.0   \n",
      "2796    TXN_9188692      Cake         0             3.0          0.0   \n",
      "3203    TXN_4565754  Smoothie         0             4.0          0.0   \n",
      "3224    TXN_6297232    Coffee         0             2.0          0.0   \n",
      "3401    TXN_3251829       Tea         0             1.5          0.0   \n",
      "3779    TXN_7376255   No Data         0             0.0         25.0   \n",
      "4257    TXN_6470865    Coffee         0             2.0          0.0   \n",
      "5841    TXN_5884081    Cookie         0             1.0          0.0   \n",
      "7029    TXN_4628338    Coffee         0             2.0          0.0   \n",
      "7297    TXN_9944500  Smoothie         0             4.0          0.0   \n",
      "7597    TXN_1082717   No Data         0             0.0          9.0   \n",
      "8021    TXN_2428781     Salad         0             5.0          0.0   \n",
      "8443    TXN_2023651  Sandwich         0             4.0          0.0   \n",
      "8465    TXN_9669616    Coffee         0             2.0          0.0   \n",
      "8479    TXN_1547245  Sandwich         0             4.0          0.0   \n",
      "8574    TXN_2546684     Juice         0             3.0          0.0   \n",
      "8732    TXN_4550558    Cookie         0             1.0          0.0   \n",
      "9590    TXN_9924732  Sandwich         0             4.0          0.0   \n",
      "9819    TXN_1208561   No Data         0             0.0         20.0   \n",
      "9869    TXN_1975184    Coffee         0             2.0          0.0   \n",
      "\n",
      "      Payment Method  Location Transaction Date  \n",
      "236              nan  In-store       2023-05-18  \n",
      "278             Cash  Takeaway       2023-04-15  \n",
      "641              nan       nan       2023-03-17  \n",
      "738              nan  Takeaway       2023-05-14  \n",
      "2796     Credit Card       nan       2023-12-01  \n",
      "3203  Digital Wallet  Takeaway       2023-10-06  \n",
      "3224             nan       nan       2023-04-07  \n",
      "3401  Digital Wallet  In-store       2023-07-25  \n",
      "3779             nan  In-store       2023-05-27  \n",
      "4257  Digital Wallet  Takeaway       2023-09-18  \n",
      "5841  Digital Wallet  In-store       2023-07-05  \n",
      "7029            Cash       nan       2023-12-25  \n",
      "7297            Cash  In-store       2023-01-03  \n",
      "7597  Digital Wallet  In-store       2023-12-13  \n",
      "8021             nan  In-store       2023-05-09  \n",
      "8443            Cash  In-store       2023-05-25  \n",
      "8465             nan     ERROR       2023-06-03  \n",
      "8479             nan  Takeaway       2023-09-11  \n",
      "8574  Digital Wallet  Takeaway       2023-04-08  \n",
      "8732     Credit Card  In-store       2023-08-04  \n",
      "9590     Credit Card  In-store       2023-01-18  \n",
      "9819     Credit Card       nan       2023-08-19  \n",
      "9869  Digital Wallet       nan       2023-01-15  \n"
     ]
    }
   ],
   "source": [
    "print(cafeData[cafeData['Quantity'] == 0])"
   ]
  },
  {
   "cell_type": "code",
   "execution_count": 79,
   "id": "d537345a",
   "metadata": {},
   "outputs": [
    {
     "name": "stdout",
     "output_type": "stream",
     "text": [
      "     Transaction ID     Item  Quantity  Price Per Unit  Total Spent  \\\n",
      "1761    TXN_3611851  No Data         4             0.0          0.0   \n",
      "2289    TXN_7524977  No Data         4             0.0          0.0   \n",
      "3779    TXN_7376255  No Data         0             0.0         25.0   \n",
      "4152    TXN_9646000  No Data         2             0.0          0.0   \n",
      "7597    TXN_1082717  No Data         0             0.0          9.0   \n",
      "9819    TXN_1208561  No Data         0             0.0         20.0   \n",
      "\n",
      "      Payment Method  Location Transaction Date  \n",
      "1761     Credit Card       nan       2023-02-09  \n",
      "2289           ERROR       nan       2023-12-09  \n",
      "3779             nan  In-store       2023-05-27  \n",
      "4152             nan  In-store       2023-12-14  \n",
      "7597  Digital Wallet  In-store       2023-12-13  \n",
      "9819     Credit Card       nan       2023-08-19  \n"
     ]
    }
   ],
   "source": [
    "print(cafeData[cafeData['Price Per Unit'] == 0])"
   ]
  },
  {
   "cell_type": "code",
   "execution_count": 80,
   "id": "d9d3d8bf",
   "metadata": {},
   "outputs": [
    {
     "data": {
      "text/plain": [
       "Item\n",
       "Coffee                1291\n",
       "Salad                 1272\n",
       "Cookie                1213\n",
       "Tea                   1207\n",
       "Juice                 1171\n",
       "Cake                  1139\n",
       "Sandwich              1131\n",
       "Smoothie              1096\n",
       "Cake, Juice            247\n",
       "Sandwich, Smoothie     227\n",
       "No Data                  6\n",
       "Name: count, dtype: int64"
      ]
     },
     "execution_count": 80,
     "metadata": {},
     "output_type": "execute_result"
    }
   ],
   "source": [
    "# Count 'Item' Values\n",
    "# Note : 0's are missing values\n",
    "cafeData['Item'].value_counts()"
   ]
  },
  {
   "cell_type": "code",
   "execution_count": 85,
   "id": "fe59b4b1",
   "metadata": {},
   "outputs": [
    {
     "data": {
      "text/plain": [
       "Quantity\n",
       "5    2108\n",
       "2    2056\n",
       "3    1946\n",
       "4    1941\n",
       "1    1926\n",
       "0      23\n",
       "Name: count, dtype: int64"
      ]
     },
     "execution_count": 85,
     "metadata": {},
     "output_type": "execute_result"
    }
   ],
   "source": [
    "# Count 'Quantity' Values\n",
    "# Note : 0's are missing values\n",
    "cafeData['Quantity'].value_counts()"
   ]
  },
  {
   "cell_type": "code",
   "execution_count": 82,
   "id": "da6a3f09",
   "metadata": {},
   "outputs": [
    {
     "data": {
      "text/plain": [
       "Price Per Unit\n",
       "3.0    2557\n",
       "4.0    2454\n",
       "2.0    1291\n",
       "5.0    1272\n",
       "1.0    1213\n",
       "1.5    1207\n",
       "0.0       6\n",
       "Name: count, dtype: int64"
      ]
     },
     "execution_count": 82,
     "metadata": {},
     "output_type": "execute_result"
    }
   ],
   "source": [
    "# Count 'Price Per Unit' Values\n",
    "# Note : 0's are missing values\n",
    "cafeData['Price Per Unit'].value_counts()"
   ]
  },
  {
   "cell_type": "code",
   "execution_count": 83,
   "id": "d6c606cd",
   "metadata": {},
   "outputs": [
    {
     "data": {
      "text/plain": [
       "Total Spent\n",
       "6.0     1019\n",
       "12.0     996\n",
       "4.0      969\n",
       "3.0      968\n",
       "20.0     789\n",
       "15.0     766\n",
       "8.0      720\n",
       "10.0     542\n",
       "2.0      518\n",
       "9.0      510\n",
       "5.0      496\n",
       "16.0     466\n",
       "25.0     269\n",
       "7.5      250\n",
       "1.0      249\n",
       "4.5      238\n",
       "1.5      212\n",
       "0.0       23\n",
       "Name: count, dtype: int64"
      ]
     },
     "execution_count": 83,
     "metadata": {},
     "output_type": "execute_result"
    }
   ],
   "source": [
    "# Count 'Total Spent' Values\n",
    "# Note : 0's are missing values\n",
    "cafeData['Total Spent'].value_counts()"
   ]
  },
  {
   "cell_type": "markdown",
   "id": "c4ad9e11",
   "metadata": {},
   "source": [
    "## Step 6: Export the data\n"
   ]
  },
  {
   "cell_type": "code",
   "execution_count": 86,
   "id": "f3f55b1f",
   "metadata": {},
   "outputs": [],
   "source": [
    "# Export the dataframe as a new csv file\n",
    "cafeData.to_csv('clean_cafe_sales.csv', index=False)"
   ]
  },
  {
   "cell_type": "code",
   "execution_count": null,
   "id": "8116cf24",
   "metadata": {},
   "outputs": [],
   "source": []
  }
 ],
 "metadata": {
  "kernelspec": {
   "display_name": "base",
   "language": "python",
   "name": "python3"
  },
  "language_info": {
   "codemirror_mode": {
    "name": "ipython",
    "version": 3
   },
   "file_extension": ".py",
   "mimetype": "text/x-python",
   "name": "python",
   "nbconvert_exporter": "python",
   "pygments_lexer": "ipython3",
   "version": "3.12.9"
  }
 },
 "nbformat": 4,
 "nbformat_minor": 5
}
