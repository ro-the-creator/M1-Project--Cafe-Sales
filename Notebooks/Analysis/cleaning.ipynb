{
 "cells": [
  {
   "cell_type": "markdown",
   "id": "d3f3866c",
   "metadata": {},
   "source": [
    "## Step 1: Import Pandas, Numpy, and Data"
   ]
  },
  {
   "cell_type": "code",
   "execution_count": 169,
   "id": "9419ec0c",
   "metadata": {},
   "outputs": [],
   "source": [
    "import pandas as pd\n",
    "import numpy as np"
   ]
  },
  {
   "cell_type": "code",
   "execution_count": 170,
   "id": "aee61aea",
   "metadata": {},
   "outputs": [
    {
     "ename": "FileNotFoundError",
     "evalue": "[Errno 2] No such file or directory: '/Users/Marcy_Student/M1-Project--Cafe-Sales/Data/dirty_cafe_sales.csv'",
     "output_type": "error",
     "traceback": [
      "\u001b[31m---------------------------------------------------------------------------\u001b[39m",
      "\u001b[31mFileNotFoundError\u001b[39m                         Traceback (most recent call last)",
      "\u001b[36mCell\u001b[39m\u001b[36m \u001b[39m\u001b[32mIn[170]\u001b[39m\u001b[32m, line 1\u001b[39m\n\u001b[32m----> \u001b[39m\u001b[32m1\u001b[39m cafeData = \u001b[43mpd\u001b[49m\u001b[43m.\u001b[49m\u001b[43mread_csv\u001b[49m\u001b[43m(\u001b[49m\u001b[33;43m'\u001b[39;49m\u001b[33;43m/Users/Marcy_Student/M1-Project--Cafe-Sales/Data/dirty_cafe_sales.csv\u001b[39;49m\u001b[33;43m'\u001b[39;49m\u001b[43m)\u001b[49m\n",
      "\u001b[36mFile \u001b[39m\u001b[32m/opt/miniconda3/lib/python3.12/site-packages/pandas/io/parsers/readers.py:1026\u001b[39m, in \u001b[36mread_csv\u001b[39m\u001b[34m(filepath_or_buffer, sep, delimiter, header, names, index_col, usecols, dtype, engine, converters, true_values, false_values, skipinitialspace, skiprows, skipfooter, nrows, na_values, keep_default_na, na_filter, verbose, skip_blank_lines, parse_dates, infer_datetime_format, keep_date_col, date_parser, date_format, dayfirst, cache_dates, iterator, chunksize, compression, thousands, decimal, lineterminator, quotechar, quoting, doublequote, escapechar, comment, encoding, encoding_errors, dialect, on_bad_lines, delim_whitespace, low_memory, memory_map, float_precision, storage_options, dtype_backend)\u001b[39m\n\u001b[32m   1013\u001b[39m kwds_defaults = _refine_defaults_read(\n\u001b[32m   1014\u001b[39m     dialect,\n\u001b[32m   1015\u001b[39m     delimiter,\n\u001b[32m   (...)\u001b[39m\u001b[32m   1022\u001b[39m     dtype_backend=dtype_backend,\n\u001b[32m   1023\u001b[39m )\n\u001b[32m   1024\u001b[39m kwds.update(kwds_defaults)\n\u001b[32m-> \u001b[39m\u001b[32m1026\u001b[39m \u001b[38;5;28;01mreturn\u001b[39;00m \u001b[43m_read\u001b[49m\u001b[43m(\u001b[49m\u001b[43mfilepath_or_buffer\u001b[49m\u001b[43m,\u001b[49m\u001b[43m \u001b[49m\u001b[43mkwds\u001b[49m\u001b[43m)\u001b[49m\n",
      "\u001b[36mFile \u001b[39m\u001b[32m/opt/miniconda3/lib/python3.12/site-packages/pandas/io/parsers/readers.py:620\u001b[39m, in \u001b[36m_read\u001b[39m\u001b[34m(filepath_or_buffer, kwds)\u001b[39m\n\u001b[32m    617\u001b[39m _validate_names(kwds.get(\u001b[33m\"\u001b[39m\u001b[33mnames\u001b[39m\u001b[33m\"\u001b[39m, \u001b[38;5;28;01mNone\u001b[39;00m))\n\u001b[32m    619\u001b[39m \u001b[38;5;66;03m# Create the parser.\u001b[39;00m\n\u001b[32m--> \u001b[39m\u001b[32m620\u001b[39m parser = \u001b[43mTextFileReader\u001b[49m\u001b[43m(\u001b[49m\u001b[43mfilepath_or_buffer\u001b[49m\u001b[43m,\u001b[49m\u001b[43m \u001b[49m\u001b[43m*\u001b[49m\u001b[43m*\u001b[49m\u001b[43mkwds\u001b[49m\u001b[43m)\u001b[49m\n\u001b[32m    622\u001b[39m \u001b[38;5;28;01mif\u001b[39;00m chunksize \u001b[38;5;129;01mor\u001b[39;00m iterator:\n\u001b[32m    623\u001b[39m     \u001b[38;5;28;01mreturn\u001b[39;00m parser\n",
      "\u001b[36mFile \u001b[39m\u001b[32m/opt/miniconda3/lib/python3.12/site-packages/pandas/io/parsers/readers.py:1620\u001b[39m, in \u001b[36mTextFileReader.__init__\u001b[39m\u001b[34m(self, f, engine, **kwds)\u001b[39m\n\u001b[32m   1617\u001b[39m     \u001b[38;5;28mself\u001b[39m.options[\u001b[33m\"\u001b[39m\u001b[33mhas_index_names\u001b[39m\u001b[33m\"\u001b[39m] = kwds[\u001b[33m\"\u001b[39m\u001b[33mhas_index_names\u001b[39m\u001b[33m\"\u001b[39m]\n\u001b[32m   1619\u001b[39m \u001b[38;5;28mself\u001b[39m.handles: IOHandles | \u001b[38;5;28;01mNone\u001b[39;00m = \u001b[38;5;28;01mNone\u001b[39;00m\n\u001b[32m-> \u001b[39m\u001b[32m1620\u001b[39m \u001b[38;5;28mself\u001b[39m._engine = \u001b[38;5;28;43mself\u001b[39;49m\u001b[43m.\u001b[49m\u001b[43m_make_engine\u001b[49m\u001b[43m(\u001b[49m\u001b[43mf\u001b[49m\u001b[43m,\u001b[49m\u001b[43m \u001b[49m\u001b[38;5;28;43mself\u001b[39;49m\u001b[43m.\u001b[49m\u001b[43mengine\u001b[49m\u001b[43m)\u001b[49m\n",
      "\u001b[36mFile \u001b[39m\u001b[32m/opt/miniconda3/lib/python3.12/site-packages/pandas/io/parsers/readers.py:1880\u001b[39m, in \u001b[36mTextFileReader._make_engine\u001b[39m\u001b[34m(self, f, engine)\u001b[39m\n\u001b[32m   1878\u001b[39m     \u001b[38;5;28;01mif\u001b[39;00m \u001b[33m\"\u001b[39m\u001b[33mb\u001b[39m\u001b[33m\"\u001b[39m \u001b[38;5;129;01mnot\u001b[39;00m \u001b[38;5;129;01min\u001b[39;00m mode:\n\u001b[32m   1879\u001b[39m         mode += \u001b[33m\"\u001b[39m\u001b[33mb\u001b[39m\u001b[33m\"\u001b[39m\n\u001b[32m-> \u001b[39m\u001b[32m1880\u001b[39m \u001b[38;5;28mself\u001b[39m.handles = \u001b[43mget_handle\u001b[49m\u001b[43m(\u001b[49m\n\u001b[32m   1881\u001b[39m \u001b[43m    \u001b[49m\u001b[43mf\u001b[49m\u001b[43m,\u001b[49m\n\u001b[32m   1882\u001b[39m \u001b[43m    \u001b[49m\u001b[43mmode\u001b[49m\u001b[43m,\u001b[49m\n\u001b[32m   1883\u001b[39m \u001b[43m    \u001b[49m\u001b[43mencoding\u001b[49m\u001b[43m=\u001b[49m\u001b[38;5;28;43mself\u001b[39;49m\u001b[43m.\u001b[49m\u001b[43moptions\u001b[49m\u001b[43m.\u001b[49m\u001b[43mget\u001b[49m\u001b[43m(\u001b[49m\u001b[33;43m\"\u001b[39;49m\u001b[33;43mencoding\u001b[39;49m\u001b[33;43m\"\u001b[39;49m\u001b[43m,\u001b[49m\u001b[43m \u001b[49m\u001b[38;5;28;43;01mNone\u001b[39;49;00m\u001b[43m)\u001b[49m\u001b[43m,\u001b[49m\n\u001b[32m   1884\u001b[39m \u001b[43m    \u001b[49m\u001b[43mcompression\u001b[49m\u001b[43m=\u001b[49m\u001b[38;5;28;43mself\u001b[39;49m\u001b[43m.\u001b[49m\u001b[43moptions\u001b[49m\u001b[43m.\u001b[49m\u001b[43mget\u001b[49m\u001b[43m(\u001b[49m\u001b[33;43m\"\u001b[39;49m\u001b[33;43mcompression\u001b[39;49m\u001b[33;43m\"\u001b[39;49m\u001b[43m,\u001b[49m\u001b[43m \u001b[49m\u001b[38;5;28;43;01mNone\u001b[39;49;00m\u001b[43m)\u001b[49m\u001b[43m,\u001b[49m\n\u001b[32m   1885\u001b[39m \u001b[43m    \u001b[49m\u001b[43mmemory_map\u001b[49m\u001b[43m=\u001b[49m\u001b[38;5;28;43mself\u001b[39;49m\u001b[43m.\u001b[49m\u001b[43moptions\u001b[49m\u001b[43m.\u001b[49m\u001b[43mget\u001b[49m\u001b[43m(\u001b[49m\u001b[33;43m\"\u001b[39;49m\u001b[33;43mmemory_map\u001b[39;49m\u001b[33;43m\"\u001b[39;49m\u001b[43m,\u001b[49m\u001b[43m \u001b[49m\u001b[38;5;28;43;01mFalse\u001b[39;49;00m\u001b[43m)\u001b[49m\u001b[43m,\u001b[49m\n\u001b[32m   1886\u001b[39m \u001b[43m    \u001b[49m\u001b[43mis_text\u001b[49m\u001b[43m=\u001b[49m\u001b[43mis_text\u001b[49m\u001b[43m,\u001b[49m\n\u001b[32m   1887\u001b[39m \u001b[43m    \u001b[49m\u001b[43merrors\u001b[49m\u001b[43m=\u001b[49m\u001b[38;5;28;43mself\u001b[39;49m\u001b[43m.\u001b[49m\u001b[43moptions\u001b[49m\u001b[43m.\u001b[49m\u001b[43mget\u001b[49m\u001b[43m(\u001b[49m\u001b[33;43m\"\u001b[39;49m\u001b[33;43mencoding_errors\u001b[39;49m\u001b[33;43m\"\u001b[39;49m\u001b[43m,\u001b[49m\u001b[43m \u001b[49m\u001b[33;43m\"\u001b[39;49m\u001b[33;43mstrict\u001b[39;49m\u001b[33;43m\"\u001b[39;49m\u001b[43m)\u001b[49m\u001b[43m,\u001b[49m\n\u001b[32m   1888\u001b[39m \u001b[43m    \u001b[49m\u001b[43mstorage_options\u001b[49m\u001b[43m=\u001b[49m\u001b[38;5;28;43mself\u001b[39;49m\u001b[43m.\u001b[49m\u001b[43moptions\u001b[49m\u001b[43m.\u001b[49m\u001b[43mget\u001b[49m\u001b[43m(\u001b[49m\u001b[33;43m\"\u001b[39;49m\u001b[33;43mstorage_options\u001b[39;49m\u001b[33;43m\"\u001b[39;49m\u001b[43m,\u001b[49m\u001b[43m \u001b[49m\u001b[38;5;28;43;01mNone\u001b[39;49;00m\u001b[43m)\u001b[49m\u001b[43m,\u001b[49m\n\u001b[32m   1889\u001b[39m \u001b[43m\u001b[49m\u001b[43m)\u001b[49m\n\u001b[32m   1890\u001b[39m \u001b[38;5;28;01massert\u001b[39;00m \u001b[38;5;28mself\u001b[39m.handles \u001b[38;5;129;01mis\u001b[39;00m \u001b[38;5;129;01mnot\u001b[39;00m \u001b[38;5;28;01mNone\u001b[39;00m\n\u001b[32m   1891\u001b[39m f = \u001b[38;5;28mself\u001b[39m.handles.handle\n",
      "\u001b[36mFile \u001b[39m\u001b[32m/opt/miniconda3/lib/python3.12/site-packages/pandas/io/common.py:873\u001b[39m, in \u001b[36mget_handle\u001b[39m\u001b[34m(path_or_buf, mode, encoding, compression, memory_map, is_text, errors, storage_options)\u001b[39m\n\u001b[32m    868\u001b[39m \u001b[38;5;28;01melif\u001b[39;00m \u001b[38;5;28misinstance\u001b[39m(handle, \u001b[38;5;28mstr\u001b[39m):\n\u001b[32m    869\u001b[39m     \u001b[38;5;66;03m# Check whether the filename is to be opened in binary mode.\u001b[39;00m\n\u001b[32m    870\u001b[39m     \u001b[38;5;66;03m# Binary mode does not support 'encoding' and 'newline'.\u001b[39;00m\n\u001b[32m    871\u001b[39m     \u001b[38;5;28;01mif\u001b[39;00m ioargs.encoding \u001b[38;5;129;01mand\u001b[39;00m \u001b[33m\"\u001b[39m\u001b[33mb\u001b[39m\u001b[33m\"\u001b[39m \u001b[38;5;129;01mnot\u001b[39;00m \u001b[38;5;129;01min\u001b[39;00m ioargs.mode:\n\u001b[32m    872\u001b[39m         \u001b[38;5;66;03m# Encoding\u001b[39;00m\n\u001b[32m--> \u001b[39m\u001b[32m873\u001b[39m         handle = \u001b[38;5;28;43mopen\u001b[39;49m\u001b[43m(\u001b[49m\n\u001b[32m    874\u001b[39m \u001b[43m            \u001b[49m\u001b[43mhandle\u001b[49m\u001b[43m,\u001b[49m\n\u001b[32m    875\u001b[39m \u001b[43m            \u001b[49m\u001b[43mioargs\u001b[49m\u001b[43m.\u001b[49m\u001b[43mmode\u001b[49m\u001b[43m,\u001b[49m\n\u001b[32m    876\u001b[39m \u001b[43m            \u001b[49m\u001b[43mencoding\u001b[49m\u001b[43m=\u001b[49m\u001b[43mioargs\u001b[49m\u001b[43m.\u001b[49m\u001b[43mencoding\u001b[49m\u001b[43m,\u001b[49m\n\u001b[32m    877\u001b[39m \u001b[43m            \u001b[49m\u001b[43merrors\u001b[49m\u001b[43m=\u001b[49m\u001b[43merrors\u001b[49m\u001b[43m,\u001b[49m\n\u001b[32m    878\u001b[39m \u001b[43m            \u001b[49m\u001b[43mnewline\u001b[49m\u001b[43m=\u001b[49m\u001b[33;43m\"\u001b[39;49m\u001b[33;43m\"\u001b[39;49m\u001b[43m,\u001b[49m\n\u001b[32m    879\u001b[39m \u001b[43m        \u001b[49m\u001b[43m)\u001b[49m\n\u001b[32m    880\u001b[39m     \u001b[38;5;28;01melse\u001b[39;00m:\n\u001b[32m    881\u001b[39m         \u001b[38;5;66;03m# Binary mode\u001b[39;00m\n\u001b[32m    882\u001b[39m         handle = \u001b[38;5;28mopen\u001b[39m(handle, ioargs.mode)\n",
      "\u001b[31mFileNotFoundError\u001b[39m: [Errno 2] No such file or directory: '/Users/Marcy_Student/M1-Project--Cafe-Sales/Data/dirty_cafe_sales.csv'"
     ]
    }
   ],
   "source": [
    "cafeData = pd.read_csv('/Users/Marcy_Student/M1-Project--Cafe-Sales/Data/dirty_cafe_sales.csv')"
   ]
  },
  {
   "cell_type": "code",
   "execution_count": null,
   "id": "70ba6297",
   "metadata": {},
   "outputs": [
    {
     "name": "stdout",
     "output_type": "stream",
     "text": [
      "<class 'pandas.core.frame.DataFrame'>\n",
      "RangeIndex: 10000 entries, 0 to 9999\n",
      "Data columns (total 8 columns):\n",
      " #   Column            Non-Null Count  Dtype \n",
      "---  ------            --------------  ----- \n",
      " 0   Transaction ID    10000 non-null  object\n",
      " 1   Item              9667 non-null   object\n",
      " 2   Quantity          9862 non-null   object\n",
      " 3   Price Per Unit    9821 non-null   object\n",
      " 4   Total Spent       9827 non-null   object\n",
      " 5   Payment Method    7421 non-null   object\n",
      " 6   Location          6735 non-null   object\n",
      " 7   Transaction Date  9841 non-null   object\n",
      "dtypes: object(8)\n",
      "memory usage: 625.1+ KB\n"
     ]
    }
   ],
   "source": [
    "cafeData.info()"
   ]
  },
  {
   "cell_type": "code",
   "execution_count": null,
   "id": "f3c54d70",
   "metadata": {},
   "outputs": [
    {
     "name": "stdout",
     "output_type": "stream",
     "text": [
      "Missing values for each column \n",
      " Transaction ID: 0  \n",
      " Item: 333 \n",
      " Quantity: 138 \n",
      " Price Per Unit: 179 \n",
      " Total Spent: 173 \n",
      " Payment Method: 2579 \n",
      " Location: 3265 \n",
      " Transaction Date: 159\n"
     ]
    }
   ],
   "source": [
    "# Step 1: Calculate Differences\n",
    "tIDdiff = cafeData[\"Transaction ID\"].count()\n",
    "idiff = cafeData[\"Item\"].count()\n",
    "qdiff= cafeData[\"Quantity\"].count()\n",
    "ppudiff = cafeData[\"Price Per Unit\"].count()\n",
    "tsdiff = cafeData[\"Total Spent\"].count()\n",
    "PMdiff = cafeData[\"Payment Method\"].count()\n",
    "ldiff = cafeData[\"Location\"].count()\n",
    "TDdiff = cafeData[\"Transaction Date\"].count()\n",
    "diff1= 10000 - tIDdiff\n",
    "diff2 = 10000 - idiff\n",
    "diff3 = 10000 - qdiff\n",
    "diff4 = 10000 - ppudiff\n",
    "diff5 = 10000 - tsdiff\n",
    "diff6 = 10000 - PMdiff\n",
    "diff7 = 10000 - ldiff\n",
    "diff8 = 10000 - TDdiff\n",
    "print(f'Missing values for each column \\n Transaction ID: {diff1}  \\n Item: {diff2} \\n Quantity: {diff3} \\n Price Per Unit: {diff4} \\n Total Spent: {diff5} \\n Payment Method: {diff6} \\n Location: {diff7} \\n Transaction Date: {diff8}')"
   ]
  },
  {
   "cell_type": "markdown",
   "id": "fac4e135",
   "metadata": {},
   "source": [
    "## Step 2: Replace all missing values with 0 so it can be converted to the proper data type"
   ]
  },
  {
   "cell_type": "code",
   "execution_count": null,
   "id": "d43128c6",
   "metadata": {},
   "outputs": [],
   "source": [
    "# Replace Quantity Missing Values\n",
    "cafeData['Quantity'] = cafeData['Quantity'].replace('UNKNOWN', np.nan)\n",
    "cafeData['Quantity'] = cafeData['Quantity'].replace(\"ERROR\", np.nan)\n",
    "cafeData['Quantity'] = cafeData['Quantity'].fillna(np.nan)\n"
   ]
  },
  {
   "cell_type": "code",
   "execution_count": null,
   "id": "27d47892",
   "metadata": {},
   "outputs": [],
   "source": [
    "# Replace PPU Missing Values\n",
    "cafeData[['Price Per Unit','Total Spent' ]] = cafeData[['Price Per Unit','Total Spent' ]].replace('UNKNOWN', np.nan)\n",
    "cafeData[['Price Per Unit','Total Spent' ]] = cafeData[['Price Per Unit','Total Spent' ]].replace(\"ERROR\", np.nan)\n",
    "cafeData[['Price Per Unit','Total Spent' ]] = cafeData[['Price Per Unit','Total Spent' ]].fillna(np.nan)"
   ]
  },
  {
   "cell_type": "code",
   "execution_count": null,
   "id": "ef850af8",
   "metadata": {},
   "outputs": [],
   "source": [
    "# Replace Transaction Date Missing Values\n",
    "cafeData['Transaction Date'] = cafeData['Transaction Date'].replace(['UNKNOWN', 'ERROR'], pd.NA)\n",
    "cafeData['Valid Date'] = cafeData['Transaction Date'].notna()\n",
    "cafeData['Transaction Date'] = pd.to_datetime(cafeData['Transaction Date'], errors='coerce')"
   ]
  },
  {
   "cell_type": "code",
   "execution_count": null,
   "id": "5f02007b",
   "metadata": {},
   "outputs": [],
   "source": [
    "# Replace Item Missing Values\n",
    "cafeData['Item'] = cafeData['Item'].replace('UNKNOWN', \"No Data\")\n",
    "cafeData['Item'] = cafeData['Item'].replace(\"ERROR\", \"No Data\")\n",
    "cafeData['Item'] = cafeData['Item'].replace(\"nan\", \"No Data\")\n",
    "cafeData['Item'] = cafeData['Item'].fillna(\"No Data\")\n"
   ]
  },
  {
   "cell_type": "markdown",
   "id": "625bef16",
   "metadata": {},
   "source": [
    "## Step 3: Convert Data Types"
   ]
  },
  {
   "cell_type": "code",
   "execution_count": null,
   "id": "76574933",
   "metadata": {},
   "outputs": [
    {
     "name": "stdout",
     "output_type": "stream",
     "text": [
      "<class 'pandas.core.frame.DataFrame'>\n",
      "RangeIndex: 10000 entries, 0 to 9999\n",
      "Data columns (total 9 columns):\n",
      " #   Column            Non-Null Count  Dtype         \n",
      "---  ------            --------------  -----         \n",
      " 0   Transaction ID    10000 non-null  object        \n",
      " 1   Item              10000 non-null  object        \n",
      " 2   Quantity          9521 non-null   float64       \n",
      " 3   Price Per Unit    9467 non-null   float64       \n",
      " 4   Total Spent       9498 non-null   float64       \n",
      " 5   Payment Method    10000 non-null  object        \n",
      " 6   Location          10000 non-null  object        \n",
      " 7   Transaction Date  9540 non-null   datetime64[ns]\n",
      " 8   Valid Date        10000 non-null  bool          \n",
      "dtypes: bool(1), datetime64[ns](1), float64(3), object(4)\n",
      "memory usage: 634.9+ KB\n"
     ]
    }
   ],
   "source": [
    "cafeData[['Transaction ID','Item','Payment Method','Location']] = cafeData[['Transaction ID','Item','Payment Method','Location']].astype(str)\n",
    "cafeData['Quantity'] = cafeData['Quantity'].astype(float)\n",
    "cafeData[['Price Per Unit','Total Spent' ]] = cafeData[['Price Per Unit','Total Spent' ]].astype(float)\n",
    "cafeData['Transaction Date'] = pd.to_datetime(cafeData['Transaction Date'])\n",
    "cafeData.info()\n"
   ]
  },
  {
   "cell_type": "markdown",
   "id": "ce0677b8",
   "metadata": {},
   "source": [
    "## Step 3.5: Check Counts for fillable columns and make sure there are no duplicates that will interfere with EDA"
   ]
  },
  {
   "cell_type": "code",
   "execution_count": null,
   "id": "090fb730",
   "metadata": {},
   "outputs": [
    {
     "name": "stdout",
     "output_type": "stream",
     "text": [
      "0\n"
     ]
    }
   ],
   "source": [
    "print(cafeData['Transaction ID'].duplicated().sum())"
   ]
  },
  {
   "cell_type": "code",
   "execution_count": null,
   "id": "f67017fa",
   "metadata": {},
   "outputs": [
    {
     "data": {
      "text/plain": [
       "Total Spent\n",
       "6.0     979\n",
       "12.0    939\n",
       "3.0     930\n",
       "4.0     923\n",
       "20.0    746\n",
       "15.0    734\n",
       "8.0     677\n",
       "10.0    524\n",
       "2.0     497\n",
       "9.0     479\n",
       "5.0     468\n",
       "16.0    444\n",
       "25.0    259\n",
       "7.5     237\n",
       "1.0     232\n",
       "4.5     225\n",
       "1.5     205\n",
       "Name: count, dtype: int64"
      ]
     },
     "execution_count": 152,
     "metadata": {},
     "output_type": "execute_result"
    }
   ],
   "source": [
    "# Count 'Total Spent' Values\n",
    "# Note : 0's are missing values\n",
    "cafeData['Total Spent'].value_counts()"
   ]
  },
  {
   "cell_type": "code",
   "execution_count": null,
   "id": "0cafbe2a",
   "metadata": {},
   "outputs": [
    {
     "data": {
      "text/plain": [
       "Quantity\n",
       "5.0    2013\n",
       "2.0    1974\n",
       "4.0    1863\n",
       "3.0    1849\n",
       "1.0    1822\n",
       "Name: count, dtype: int64"
      ]
     },
     "execution_count": 153,
     "metadata": {},
     "output_type": "execute_result"
    }
   ],
   "source": [
    "# Count 'Quantity' Values\n",
    "# Note : 0's are missing values\n",
    "cafeData['Quantity'].value_counts()"
   ]
  },
  {
   "cell_type": "code",
   "execution_count": null,
   "id": "d0e115f7",
   "metadata": {},
   "outputs": [
    {
     "data": {
      "text/plain": [
       "Price Per Unit\n",
       "3.0    2429\n",
       "4.0    2331\n",
       "2.0    1227\n",
       "5.0    1204\n",
       "1.0    1143\n",
       "1.5    1133\n",
       "Name: count, dtype: int64"
      ]
     },
     "execution_count": 154,
     "metadata": {},
     "output_type": "execute_result"
    }
   ],
   "source": [
    "# Count 'Price Per Unit' Values\n",
    "# Note : 0's are missing values\n",
    "cafeData['Price Per Unit'].value_counts()"
   ]
  },
  {
   "cell_type": "code",
   "execution_count": null,
   "id": "a5607ac5",
   "metadata": {},
   "outputs": [
    {
     "data": {
      "text/plain": [
       "Item\n",
       "Juice       1171\n",
       "Coffee      1165\n",
       "Salad       1148\n",
       "Cake        1139\n",
       "Sandwich    1131\n",
       "Smoothie    1096\n",
       "Cookie      1092\n",
       "Tea         1089\n",
       "No Data      969\n",
       "Name: count, dtype: int64"
      ]
     },
     "execution_count": 155,
     "metadata": {},
     "output_type": "execute_result"
    }
   ],
   "source": [
    "# Count 'Item' Values\n",
    "# Note : 0's are missing values\n",
    "cafeData['Item'].value_counts()"
   ]
  },
  {
   "cell_type": "markdown",
   "id": "30d06dc9",
   "metadata": {},
   "source": [
    "## Step 4: Fill in what we can with the data we have"
   ]
  },
  {
   "cell_type": "code",
   "execution_count": null,
   "id": "60b92218",
   "metadata": {},
   "outputs": [],
   "source": [
    "# Use PPU, Quantity, and Total Spent to calculate each other\n",
    "for index, row in cafeData.iterrows():\n",
    "    qty = row['Quantity']\n",
    "    ppu = row['Price Per Unit']\n",
    "    total = row['Total Spent']\n",
    "    \n",
    "\n",
    "    if (pd.isna(total) or total == 0) and qty > 0 and ppu > 0:\n",
    "        cafeData.at[index, 'Total Spent'] = qty * ppu\n",
    "    \n",
    "\n",
    "    elif (pd.isna(ppu) or ppu == 0) and qty > 0 and total > 0:\n",
    "        cafeData.at[index, 'Price Per Unit'] = total / qty\n",
    "\n",
    "\n",
    "    elif (pd.isna(qty) or qty == 0) and ppu > 0 and total > 0:\n",
    "        cafeData.at[index, 'Quantity'] = total / ppu\n"
   ]
  },
  {
   "cell_type": "code",
   "execution_count": null,
   "id": "ba79e224",
   "metadata": {},
   "outputs": [],
   "source": [
    "# Defines Item by PPU\n",
    "cafeData.loc[cafeData['Price Per Unit'] == 1, 'Item'] = 'Cookie'\n",
    "cafeData.loc[cafeData['Price Per Unit'] == 1.5, 'Item'] = 'Tea'\n",
    "cafeData.loc[cafeData['Price Per Unit'] == 2, 'Item'] = 'Coffee'\n",
    "cafeData.loc[(cafeData['Item'] == 'No Data') & (cafeData['Price Per Unit'] == 3.0), 'Item'] = 'Cake, Juice'\n",
    "cafeData.loc[(cafeData['Item'] == 'No Data') & (cafeData['Price Per Unit'] == 4.0), 'Item'] = 'Sandwich, Smoothie'\n",
    "cafeData.loc[cafeData['Price Per Unit'] == 5, 'Item'] = 'Salad'\n",
    "\n",
    "\n"
   ]
  },
  {
   "cell_type": "code",
   "execution_count": null,
   "id": "f8b0fe95",
   "metadata": {},
   "outputs": [],
   "source": [
    "#Defines PPU by Item\n",
    "\n",
    "cafeData.loc[cafeData['Item'] == 'Cookie', 'Price Per Unit'] = 1\n",
    "cafeData.loc[cafeData['Item'] == 'Tea', 'Price Per Unit'] = 1.5\n",
    "cafeData.loc[cafeData['Item'] == 'Coffee', 'Price Per Unit'] = 2\n",
    "cafeData.loc[cafeData['Item'] == 'Cake', 'Price Per Unit'] = 3\n",
    "cafeData.loc[cafeData['Item'] == 'Juice', 'Price Per Unit'] = 3\n",
    "cafeData.loc[cafeData['Item'] == 'Sandwich', 'Price Per Unit'] = 4\n",
    "cafeData.loc[cafeData['Item'] == 'Smoothie', 'Price Per Unit'] = 4\n",
    "cafeData.loc[cafeData['Item'] == 'Salad', 'Price Per Unit'] = 5"
   ]
  },
  {
   "cell_type": "code",
   "execution_count": null,
   "id": "d70e0825",
   "metadata": {},
   "outputs": [],
   "source": [
    "# Use PPU, Quantity, and Total Spent to calculate each other\n",
    "for index, row in cafeData.iterrows():\n",
    "    qty = row['Quantity']\n",
    "    ppu = row['Price Per Unit']\n",
    "    total = row['Total Spent']\n",
    "    \n",
    "\n",
    "    if (pd.isna(total) or total == 0) and qty > 0 and ppu > 0:\n",
    "        cafeData.at[index, 'Total Spent'] = qty * ppu\n",
    "    \n",
    "\n",
    "    elif (pd.isna(ppu) or ppu == 0) and qty > 0 and total > 0:\n",
    "        cafeData.at[index, 'Price Per Unit'] = total / qty\n",
    "\n",
    "\n",
    "    elif (pd.isna(qty) or qty == 0) and ppu > 0 and total > 0:\n",
    "        cafeData.at[index, 'Quantity'] = total / ppu\n"
   ]
  },
  {
   "cell_type": "markdown",
   "id": "8c1617b0",
   "metadata": {},
   "source": [
    "## Step 5: Make sure Data is cleaned as much as it can be without making assumptions"
   ]
  },
  {
   "cell_type": "code",
   "execution_count": null,
   "id": "ade7cf89",
   "metadata": {},
   "outputs": [
    {
     "name": "stdout",
     "output_type": "stream",
     "text": [
      "     Transaction ID     Item  Quantity  Price Per Unit  Total Spent  \\\n",
      "1761    TXN_3611851  No Data       4.0             NaN          NaN   \n",
      "2289    TXN_7524977  No Data       4.0             NaN          NaN   \n",
      "3779    TXN_7376255  No Data       NaN             NaN         25.0   \n",
      "4152    TXN_9646000  No Data       2.0             NaN          NaN   \n",
      "7597    TXN_1082717  No Data       NaN             NaN          9.0   \n",
      "9819    TXN_1208561  No Data       NaN             NaN         20.0   \n",
      "\n",
      "      Payment Method  Location Transaction Date  Valid Date  \n",
      "1761     Credit Card       nan       2023-02-09        True  \n",
      "2289           ERROR       nan       2023-12-09        True  \n",
      "3779             nan  In-store       2023-05-27        True  \n",
      "4152             nan  In-store       2023-12-14        True  \n",
      "7597  Digital Wallet  In-store       2023-12-13        True  \n",
      "9819     Credit Card       nan       2023-08-19        True  \n"
     ]
    }
   ],
   "source": [
    "# Looks at where there is no Item Data to make sure it can't be calculated\n",
    "print(cafeData[cafeData['Item'] == 'No Data'])"
   ]
  },
  {
   "cell_type": "code",
   "execution_count": null,
   "id": "c8e13228",
   "metadata": {},
   "outputs": [
    {
     "name": "stdout",
     "output_type": "stream",
     "text": [
      "Empty DataFrame\n",
      "Columns: [Transaction ID, Item, Quantity, Price Per Unit, Total Spent, Payment Method, Location, Transaction Date, Valid Date]\n",
      "Index: []\n"
     ]
    }
   ],
   "source": [
    "print(cafeData[cafeData['Total Spent'] == 0])"
   ]
  },
  {
   "cell_type": "code",
   "execution_count": null,
   "id": "10fdb91b",
   "metadata": {},
   "outputs": [
    {
     "name": "stdout",
     "output_type": "stream",
     "text": [
      "Empty DataFrame\n",
      "Columns: [Transaction ID, Item, Quantity, Price Per Unit, Total Spent, Payment Method, Location, Transaction Date, Valid Date]\n",
      "Index: []\n"
     ]
    }
   ],
   "source": [
    "print(cafeData[cafeData['Quantity'] == 0])"
   ]
  },
  {
   "cell_type": "code",
   "execution_count": null,
   "id": "d537345a",
   "metadata": {},
   "outputs": [
    {
     "name": "stdout",
     "output_type": "stream",
     "text": [
      "Empty DataFrame\n",
      "Columns: [Transaction ID, Item, Quantity, Price Per Unit, Total Spent, Payment Method, Location, Transaction Date, Valid Date]\n",
      "Index: []\n"
     ]
    }
   ],
   "source": [
    "print(cafeData[cafeData['Price Per Unit'] == 0])"
   ]
  },
  {
   "cell_type": "code",
   "execution_count": null,
   "id": "d9d3d8bf",
   "metadata": {},
   "outputs": [
    {
     "data": {
      "text/plain": [
       "Item\n",
       "Coffee                1291\n",
       "Salad                 1272\n",
       "Cookie                1213\n",
       "Tea                   1207\n",
       "Juice                 1171\n",
       "Cake                  1139\n",
       "Sandwich              1131\n",
       "Smoothie              1096\n",
       "Cake, Juice            247\n",
       "Sandwich, Smoothie     227\n",
       "No Data                  6\n",
       "Name: count, dtype: int64"
      ]
     },
     "execution_count": 164,
     "metadata": {},
     "output_type": "execute_result"
    }
   ],
   "source": [
    "# Count 'Item' Values\n",
    "# Note : 0's are missing values\n",
    "cafeData['Item'].value_counts()"
   ]
  },
  {
   "cell_type": "code",
   "execution_count": null,
   "id": "fe59b4b1",
   "metadata": {},
   "outputs": [
    {
     "data": {
      "text/plain": [
       "Quantity\n",
       "5.0    2108\n",
       "2.0    2056\n",
       "3.0    1946\n",
       "4.0    1941\n",
       "1.0    1926\n",
       "Name: count, dtype: int64"
      ]
     },
     "execution_count": 165,
     "metadata": {},
     "output_type": "execute_result"
    }
   ],
   "source": [
    "# Count 'Quantity' Values\n",
    "# Note : 0's are missing values\n",
    "cafeData['Quantity'].value_counts()"
   ]
  },
  {
   "cell_type": "code",
   "execution_count": null,
   "id": "da6a3f09",
   "metadata": {},
   "outputs": [
    {
     "data": {
      "text/plain": [
       "Price Per Unit\n",
       "3.0    2557\n",
       "4.0    2454\n",
       "2.0    1291\n",
       "5.0    1272\n",
       "1.0    1213\n",
       "1.5    1207\n",
       "Name: count, dtype: int64"
      ]
     },
     "execution_count": 166,
     "metadata": {},
     "output_type": "execute_result"
    }
   ],
   "source": [
    "# Count 'Price Per Unit' Values\n",
    "# Note : 0's are missing values\n",
    "cafeData['Price Per Unit'].value_counts()"
   ]
  },
  {
   "cell_type": "code",
   "execution_count": null,
   "id": "d6c606cd",
   "metadata": {},
   "outputs": [
    {
     "data": {
      "text/plain": [
       "Total Spent\n",
       "6.0     1019\n",
       "12.0     996\n",
       "4.0      969\n",
       "3.0      968\n",
       "20.0     789\n",
       "15.0     766\n",
       "8.0      720\n",
       "10.0     542\n",
       "2.0      518\n",
       "9.0      510\n",
       "5.0      496\n",
       "16.0     466\n",
       "25.0     269\n",
       "7.5      250\n",
       "1.0      249\n",
       "4.5      238\n",
       "1.5      212\n",
       "Name: count, dtype: int64"
      ]
     },
     "execution_count": 167,
     "metadata": {},
     "output_type": "execute_result"
    }
   ],
   "source": [
    "# Count 'Total Spent' Values\n",
    "# Note : 0's are missing values\n",
    "cafeData['Total Spent'].value_counts()"
   ]
  },
  {
   "cell_type": "markdown",
   "id": "c4ad9e11",
   "metadata": {},
   "source": [
    "## Step 6: Export the data\n"
   ]
  },
  {
   "cell_type": "code",
   "execution_count": null,
   "id": "f3f55b1f",
   "metadata": {},
   "outputs": [],
   "source": [
    "# Export the dataframe as a new csv file\n",
    "cafeData.to_csv('clean_cafe_sales.csv', index=False)"
   ]
  }
 ],
 "metadata": {
  "kernelspec": {
   "display_name": "base",
   "language": "python",
   "name": "python3"
  },
  "language_info": {
   "codemirror_mode": {
    "name": "ipython",
    "version": 3
   },
   "file_extension": ".py",
   "mimetype": "text/x-python",
   "name": "python",
   "nbconvert_exporter": "python",
   "pygments_lexer": "ipython3",
   "version": "3.12.9"
  }
 },
 "nbformat": 4,
 "nbformat_minor": 5
}
