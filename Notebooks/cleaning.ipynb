{
 "cells": [
  {
   "cell_type": "markdown",
   "id": "d3f3866c",
   "metadata": {},
   "source": [
    "## Step 1: Import Pandas, Numpy, and Data"
   ]
  },
  {
   "cell_type": "code",
   "execution_count": 115,
   "id": "9419ec0c",
   "metadata": {},
   "outputs": [],
   "source": [
    "import pandas as pd\n",
    "import numpy as np"
   ]
  },
  {
   "cell_type": "code",
   "execution_count": 116,
   "id": "aee61aea",
   "metadata": {},
   "outputs": [],
   "source": [
    "cafeData = pd.read_csv('/Users/Marcy_Student/M1-Project--Cafe-Sales/Data/dirty_cafe_sales.csv')"
   ]
  },
  {
   "cell_type": "code",
   "execution_count": 117,
   "id": "70ba6297",
   "metadata": {},
   "outputs": [
    {
     "name": "stdout",
     "output_type": "stream",
     "text": [
      "<class 'pandas.core.frame.DataFrame'>\n",
      "RangeIndex: 10000 entries, 0 to 9999\n",
      "Data columns (total 8 columns):\n",
      " #   Column            Non-Null Count  Dtype \n",
      "---  ------            --------------  ----- \n",
      " 0   Transaction ID    10000 non-null  object\n",
      " 1   Item              9667 non-null   object\n",
      " 2   Quantity          9862 non-null   object\n",
      " 3   Price Per Unit    9821 non-null   object\n",
      " 4   Total Spent       9827 non-null   object\n",
      " 5   Payment Method    7421 non-null   object\n",
      " 6   Location          6735 non-null   object\n",
      " 7   Transaction Date  9841 non-null   object\n",
      "dtypes: object(8)\n",
      "memory usage: 625.1+ KB\n"
     ]
    }
   ],
   "source": [
    "cafeData.info()"
   ]
  },
  {
   "cell_type": "code",
   "execution_count": 118,
   "id": "f3c54d70",
   "metadata": {},
   "outputs": [
    {
     "name": "stdout",
     "output_type": "stream",
     "text": [
      "Missing values for each column \n",
      " Transaction ID: 0  \n",
      " Item: 333 \n",
      " Quantity: 138 \n",
      " Price Per Unit: 179 \n",
      " Total Spent: 173 \n",
      " Payment Method: 2579 \n",
      " Location: 3265 \n",
      " Transaction Date: 159\n"
     ]
    }
   ],
   "source": [
    "# Step 1: Calculate Differences\n",
    "tIDdiff = cafeData[\"Transaction ID\"].count()\n",
    "idiff = cafeData[\"Item\"].count()\n",
    "qdiff= cafeData[\"Quantity\"].count()\n",
    "ppudiff = cafeData[\"Price Per Unit\"].count()\n",
    "tsdiff = cafeData[\"Total Spent\"].count()\n",
    "PMdiff = cafeData[\"Payment Method\"].count()\n",
    "ldiff = cafeData[\"Location\"].count()\n",
    "TDdiff = cafeData[\"Transaction Date\"].count()\n",
    "diff1= 10000 - tIDdiff\n",
    "diff2 = 10000 - idiff\n",
    "diff3 = 10000 - qdiff\n",
    "diff4 = 10000 - ppudiff\n",
    "diff5 = 10000 - tsdiff\n",
    "diff6 = 10000 - PMdiff\n",
    "diff7 = 10000 - ldiff\n",
    "diff8 = 10000 - TDdiff\n",
    "print(f'Missing values for each column \\n Transaction ID: {diff1}  \\n Item: {diff2} \\n Quantity: {diff3} \\n Price Per Unit: {diff4} \\n Total Spent: {diff5} \\n Payment Method: {diff6} \\n Location: {diff7} \\n Transaction Date: {diff8}')"
   ]
  },
  {
   "cell_type": "markdown",
   "id": "fac4e135",
   "metadata": {},
   "source": [
    "## Step 2: Replace all missing values with 0 so it can be converted to the proper data type"
   ]
  },
  {
   "cell_type": "code",
   "execution_count": 119,
   "id": "d43128c6",
   "metadata": {},
   "outputs": [],
   "source": [
    "# Replace Quantity Missing Values\n",
    "cafeData['Quantity'] = cafeData['Quantity'].replace('UNKNOWN', np.nan)\n",
    "cafeData['Quantity'] = cafeData['Quantity'].replace(\"ERROR\", np.nan)\n",
    "cafeData['Quantity'] = cafeData['Quantity'].fillna(np.nan)\n"
   ]
  },
  {
   "cell_type": "code",
   "execution_count": 120,
   "id": "27d47892",
   "metadata": {},
   "outputs": [],
   "source": [
    "# Replace PPU Missing Values\n",
    "cafeData[['Price Per Unit','Total Spent' ]] = cafeData[['Price Per Unit','Total Spent' ]].replace('UNKNOWN', np.nan)\n",
    "cafeData[['Price Per Unit','Total Spent' ]] = cafeData[['Price Per Unit','Total Spent' ]].replace(\"ERROR\", np.nan)\n",
    "cafeData[['Price Per Unit','Total Spent' ]] = cafeData[['Price Per Unit','Total Spent' ]].fillna(np.nan)"
   ]
  },
  {
   "cell_type": "code",
   "execution_count": 121,
   "id": "ef850af8",
   "metadata": {},
   "outputs": [],
   "source": [
    "# Replace Transaction Date Missing Values\n",
    "cafeData['Transaction Date'] = cafeData['Transaction Date'].replace(['UNKNOWN', 'ERROR'], pd.NA)\n",
    "cafeData['Valid Date'] = cafeData['Transaction Date'].notna()\n",
    "cafeData['Transaction Date'] = pd.to_datetime(cafeData['Transaction Date'], errors='coerce')"
   ]
  },
  {
   "cell_type": "code",
   "execution_count": 122,
   "id": "5f02007b",
   "metadata": {},
   "outputs": [],
   "source": [
    "# Replace Item Missing Values\n",
    "cafeData['Item'] = cafeData['Item'].replace('UNKNOWN', \"No Data\")\n",
    "cafeData['Item'] = cafeData['Item'].replace(\"ERROR\", \"No Data\")\n",
    "cafeData['Item'] = cafeData['Item'].replace(\"nan\", \"No Data\")\n",
    "cafeData['Item'] = cafeData['Item'].fillna(\"No Data\")\n"
   ]
  },
  {
   "cell_type": "markdown",
   "id": "625bef16",
   "metadata": {},
   "source": [
    "## Step 3: Convert Data Types"
   ]
  },
  {
   "cell_type": "code",
   "execution_count": 123,
   "id": "76574933",
   "metadata": {},
   "outputs": [
    {
     "name": "stdout",
     "output_type": "stream",
     "text": [
      "<class 'pandas.core.frame.DataFrame'>\n",
      "RangeIndex: 10000 entries, 0 to 9999\n",
      "Data columns (total 9 columns):\n",
      " #   Column            Non-Null Count  Dtype         \n",
      "---  ------            --------------  -----         \n",
      " 0   Transaction ID    10000 non-null  object        \n",
      " 1   Item              10000 non-null  object        \n",
      " 2   Quantity          9521 non-null   float64       \n",
      " 3   Price Per Unit    9467 non-null   float64       \n",
      " 4   Total Spent       9498 non-null   float64       \n",
      " 5   Payment Method    10000 non-null  object        \n",
      " 6   Location          10000 non-null  object        \n",
      " 7   Transaction Date  9540 non-null   datetime64[ns]\n",
      " 8   Valid Date        10000 non-null  bool          \n",
      "dtypes: bool(1), datetime64[ns](1), float64(3), object(4)\n",
      "memory usage: 634.9+ KB\n"
     ]
    }
   ],
   "source": [
    "cafeData[['Transaction ID','Item','Payment Method','Location']] = cafeData[['Transaction ID','Item','Payment Method','Location']].astype(str)\n",
    "cafeData['Quantity'] = cafeData['Quantity'].astype(float)\n",
    "cafeData[['Price Per Unit','Total Spent' ]] = cafeData[['Price Per Unit','Total Spent' ]].astype(float)\n",
    "cafeData['Transaction Date'] = pd.to_datetime(cafeData['Transaction Date'])\n",
    "cafeData.info()\n"
   ]
  },
  {
   "cell_type": "markdown",
   "id": "ce0677b8",
   "metadata": {},
   "source": [
    "## Step 3.5: Check Counts for fillable columns and make sure there are no duplicates that will interfere with EDA"
   ]
  },
  {
   "cell_type": "code",
   "execution_count": 124,
   "id": "090fb730",
   "metadata": {},
   "outputs": [
    {
     "name": "stdout",
     "output_type": "stream",
     "text": [
      "0\n"
     ]
    }
   ],
   "source": [
    "print(cafeData['Transaction ID'].duplicated().sum())"
   ]
  },
  {
   "cell_type": "code",
   "execution_count": 125,
   "id": "f67017fa",
   "metadata": {},
   "outputs": [
    {
     "data": {
      "text/plain": [
       "Total Spent\n",
       "6.0     979\n",
       "12.0    939\n",
       "3.0     930\n",
       "4.0     923\n",
       "20.0    746\n",
       "15.0    734\n",
       "8.0     677\n",
       "10.0    524\n",
       "2.0     497\n",
       "9.0     479\n",
       "5.0     468\n",
       "16.0    444\n",
       "25.0    259\n",
       "7.5     237\n",
       "1.0     232\n",
       "4.5     225\n",
       "1.5     205\n",
       "Name: count, dtype: int64"
      ]
     },
     "execution_count": 125,
     "metadata": {},
     "output_type": "execute_result"
    }
   ],
   "source": [
    "# Count 'Total Spent' Values\n",
    "# Note : 0's are missing values\n",
    "cafeData['Total Spent'].value_counts()"
   ]
  },
  {
   "cell_type": "code",
   "execution_count": 126,
   "id": "0cafbe2a",
   "metadata": {},
   "outputs": [
    {
     "data": {
      "text/plain": [
       "Quantity\n",
       "5.0    2013\n",
       "2.0    1974\n",
       "4.0    1863\n",
       "3.0    1849\n",
       "1.0    1822\n",
       "Name: count, dtype: int64"
      ]
     },
     "execution_count": 126,
     "metadata": {},
     "output_type": "execute_result"
    }
   ],
   "source": [
    "# Count 'Quantity' Values\n",
    "# Note : 0's are missing values\n",
    "cafeData['Quantity'].value_counts()"
   ]
  },
  {
   "cell_type": "code",
   "execution_count": 127,
   "id": "d0e115f7",
   "metadata": {},
   "outputs": [
    {
     "data": {
      "text/plain": [
       "Price Per Unit\n",
       "3.0    2429\n",
       "4.0    2331\n",
       "2.0    1227\n",
       "5.0    1204\n",
       "1.0    1143\n",
       "1.5    1133\n",
       "Name: count, dtype: int64"
      ]
     },
     "execution_count": 127,
     "metadata": {},
     "output_type": "execute_result"
    }
   ],
   "source": [
    "# Count 'Price Per Unit' Values\n",
    "# Note : 0's are missing values\n",
    "cafeData['Price Per Unit'].value_counts()"
   ]
  },
  {
   "cell_type": "code",
   "execution_count": 128,
   "id": "a5607ac5",
   "metadata": {},
   "outputs": [
    {
     "data": {
      "text/plain": [
       "Item\n",
       "Juice       1171\n",
       "Coffee      1165\n",
       "Salad       1148\n",
       "Cake        1139\n",
       "Sandwich    1131\n",
       "Smoothie    1096\n",
       "Cookie      1092\n",
       "Tea         1089\n",
       "No Data      969\n",
       "Name: count, dtype: int64"
      ]
     },
     "execution_count": 128,
     "metadata": {},
     "output_type": "execute_result"
    }
   ],
   "source": [
    "# Count 'Item' Values\n",
    "# Note : 0's are missing values\n",
    "cafeData['Item'].value_counts()"
   ]
  },
  {
   "cell_type": "markdown",
   "id": "30d06dc9",
   "metadata": {},
   "source": [
    "## Step 4: Fill in what we can with the data we have"
   ]
  },
  {
   "cell_type": "code",
   "execution_count": 129,
   "id": "60b92218",
   "metadata": {},
   "outputs": [],
   "source": [
    "# Use PPU, Quantity, and Total Spent to calculate each other\n",
    "for index, row in cafeData.iterrows():\n",
    "    qty = row['Quantity']\n",
    "    ppu = row['Price Per Unit']\n",
    "    total = row['Total Spent']\n",
    "    \n",
    "\n",
    "    if (pd.isna(total) or total == 0) and qty > 0 and ppu > 0:\n",
    "        cafeData.at[index, 'Total Spent'] = qty * ppu\n",
    "    \n",
    "\n",
    "    elif (pd.isna(ppu) or ppu == 0) and qty > 0 and total > 0:\n",
    "        cafeData.at[index, 'Price Per Unit'] = total / qty\n",
    "\n",
    "\n",
    "    elif (pd.isna(qty) or qty == 0) and ppu > 0 and total > 0:\n",
    "        cafeData.at[index, 'Quantity'] = total / ppu\n"
   ]
  },
  {
   "cell_type": "code",
   "execution_count": 130,
   "id": "ba79e224",
   "metadata": {},
   "outputs": [],
   "source": [
    "# Defines Item by PPU\n",
    "cafeData.loc[cafeData['Price Per Unit'] == 1, 'Item'] = 'Cookie'\n",
    "cafeData.loc[cafeData['Price Per Unit'] == 1.5, 'Item'] = 'Tea'\n",
    "cafeData.loc[cafeData['Price Per Unit'] == 2, 'Item'] = 'Coffee'\n",
    "cafeData.loc[(cafeData['Item'] == 'No Data') & (cafeData['Price Per Unit'] == 3.0), 'Item'] = 'Cake, Juice'\n",
    "cafeData.loc[(cafeData['Item'] == 'No Data') & (cafeData['Price Per Unit'] == 4.0), 'Item'] = 'Sandwich, Smoothie'\n",
    "cafeData.loc[cafeData['Price Per Unit'] == 5, 'Item'] = 'Salad'\n",
    "\n",
    "\n"
   ]
  },
  {
   "cell_type": "code",
   "execution_count": 131,
   "id": "f8b0fe95",
   "metadata": {},
   "outputs": [],
   "source": [
    "#Defines PPU by Item\n",
    "\n",
    "cafeData.loc[cafeData['Item'] == 'Cookie', 'Price Per Unit'] = 1\n",
    "cafeData.loc[cafeData['Item'] == 'Tea', 'Price Per Unit'] = 1.5\n",
    "cafeData.loc[cafeData['Item'] == 'Coffee', 'Price Per Unit'] = 2\n",
    "cafeData.loc[cafeData['Item'] == 'Cake', 'Price Per Unit'] = 3\n",
    "cafeData.loc[cafeData['Item'] == 'Juice', 'Price Per Unit'] = 3\n",
    "cafeData.loc[cafeData['Item'] == 'Sandwich', 'Price Per Unit'] = 4\n",
    "cafeData.loc[cafeData['Item'] == 'Smoothie', 'Price Per Unit'] = 4\n",
    "cafeData.loc[cafeData['Item'] == 'Salad', 'Price Per Unit'] = 5"
   ]
  },
  {
   "cell_type": "code",
   "execution_count": 132,
   "id": "d70e0825",
   "metadata": {},
   "outputs": [],
   "source": [
    "# Use PPU, Quantity, and Total Spent to calculate each other\n",
    "for index, row in cafeData.iterrows():\n",
    "    qty = row['Quantity']\n",
    "    ppu = row['Price Per Unit']\n",
    "    total = row['Total Spent']\n",
    "    \n",
    "\n",
    "    if (pd.isna(total) or total == 0) and qty > 0 and ppu > 0:\n",
    "        cafeData.at[index, 'Total Spent'] = qty * ppu\n",
    "    \n",
    "\n",
    "    elif (pd.isna(ppu) or ppu == 0) and qty > 0 and total > 0:\n",
    "        cafeData.at[index, 'Price Per Unit'] = total / qty\n",
    "\n",
    "\n",
    "    elif (pd.isna(qty) or qty == 0) and ppu > 0 and total > 0:\n",
    "        cafeData.at[index, 'Quantity'] = total / ppu\n"
   ]
  },
  {
   "cell_type": "markdown",
   "id": "8c1617b0",
   "metadata": {},
   "source": [
    "## Step 5: Make sure Data is cleaned as much as it can be without making assumptions"
   ]
  },
  {
   "cell_type": "code",
   "execution_count": 133,
   "id": "ade7cf89",
   "metadata": {},
   "outputs": [
    {
     "name": "stdout",
     "output_type": "stream",
     "text": [
      "     Transaction ID     Item  Quantity  Price Per Unit  Total Spent  \\\n",
      "1761    TXN_3611851  No Data       4.0             NaN          NaN   \n",
      "2289    TXN_7524977  No Data       4.0             NaN          NaN   \n",
      "3779    TXN_7376255  No Data       NaN             NaN         25.0   \n",
      "4152    TXN_9646000  No Data       2.0             NaN          NaN   \n",
      "7597    TXN_1082717  No Data       NaN             NaN          9.0   \n",
      "9819    TXN_1208561  No Data       NaN             NaN         20.0   \n",
      "\n",
      "      Payment Method  Location Transaction Date  Valid Date  \n",
      "1761     Credit Card       nan       2023-02-09        True  \n",
      "2289           ERROR       nan       2023-12-09        True  \n",
      "3779             nan  In-store       2023-05-27        True  \n",
      "4152             nan  In-store       2023-12-14        True  \n",
      "7597  Digital Wallet  In-store       2023-12-13        True  \n",
      "9819     Credit Card       nan       2023-08-19        True  \n"
     ]
    }
   ],
   "source": [
    "# Looks at where there is no Item Data to make sure it can't be calculated\n",
    "print(cafeData[cafeData['Item'] == 'No Data'])"
   ]
  },
  {
   "cell_type": "code",
   "execution_count": 134,
   "id": "c8e13228",
   "metadata": {},
   "outputs": [
    {
     "name": "stdout",
     "output_type": "stream",
     "text": [
      "Empty DataFrame\n",
      "Columns: [Transaction ID, Item, Quantity, Price Per Unit, Total Spent, Payment Method, Location, Transaction Date, Valid Date]\n",
      "Index: []\n"
     ]
    }
   ],
   "source": [
    "print(cafeData[cafeData['Total Spent'] == 0])"
   ]
  },
  {
   "cell_type": "code",
   "execution_count": 135,
   "id": "10fdb91b",
   "metadata": {},
   "outputs": [
    {
     "name": "stdout",
     "output_type": "stream",
     "text": [
      "Empty DataFrame\n",
      "Columns: [Transaction ID, Item, Quantity, Price Per Unit, Total Spent, Payment Method, Location, Transaction Date, Valid Date]\n",
      "Index: []\n"
     ]
    }
   ],
   "source": [
    "print(cafeData[cafeData['Quantity'] == 0])"
   ]
  },
  {
   "cell_type": "code",
   "execution_count": 136,
   "id": "d537345a",
   "metadata": {},
   "outputs": [
    {
     "name": "stdout",
     "output_type": "stream",
     "text": [
      "Empty DataFrame\n",
      "Columns: [Transaction ID, Item, Quantity, Price Per Unit, Total Spent, Payment Method, Location, Transaction Date, Valid Date]\n",
      "Index: []\n"
     ]
    }
   ],
   "source": [
    "print(cafeData[cafeData['Price Per Unit'] == 0])"
   ]
  },
  {
   "cell_type": "code",
   "execution_count": 137,
   "id": "d9d3d8bf",
   "metadata": {},
   "outputs": [
    {
     "data": {
      "text/plain": [
       "Item\n",
       "Coffee                1291\n",
       "Salad                 1272\n",
       "Cookie                1213\n",
       "Tea                   1207\n",
       "Juice                 1171\n",
       "Cake                  1139\n",
       "Sandwich              1131\n",
       "Smoothie              1096\n",
       "Cake, Juice            247\n",
       "Sandwich, Smoothie     227\n",
       "No Data                  6\n",
       "Name: count, dtype: int64"
      ]
     },
     "execution_count": 137,
     "metadata": {},
     "output_type": "execute_result"
    }
   ],
   "source": [
    "# Count 'Item' Values\n",
    "# Note : 0's are missing values\n",
    "cafeData['Item'].value_counts()"
   ]
  },
  {
   "cell_type": "code",
   "execution_count": 138,
   "id": "fe59b4b1",
   "metadata": {},
   "outputs": [
    {
     "data": {
      "text/plain": [
       "Quantity\n",
       "5.0    2108\n",
       "2.0    2056\n",
       "3.0    1946\n",
       "4.0    1941\n",
       "1.0    1926\n",
       "Name: count, dtype: int64"
      ]
     },
     "execution_count": 138,
     "metadata": {},
     "output_type": "execute_result"
    }
   ],
   "source": [
    "# Count 'Quantity' Values\n",
    "# Note : 0's are missing values\n",
    "cafeData['Quantity'].value_counts()"
   ]
  },
  {
   "cell_type": "code",
   "execution_count": 139,
   "id": "da6a3f09",
   "metadata": {},
   "outputs": [
    {
     "data": {
      "text/plain": [
       "Price Per Unit\n",
       "3.0    2557\n",
       "4.0    2454\n",
       "2.0    1291\n",
       "5.0    1272\n",
       "1.0    1213\n",
       "1.5    1207\n",
       "Name: count, dtype: int64"
      ]
     },
     "execution_count": 139,
     "metadata": {},
     "output_type": "execute_result"
    }
   ],
   "source": [
    "# Count 'Price Per Unit' Values\n",
    "# Note : 0's are missing values\n",
    "cafeData['Price Per Unit'].value_counts()"
   ]
  },
  {
   "cell_type": "code",
   "execution_count": 140,
   "id": "d6c606cd",
   "metadata": {},
   "outputs": [
    {
     "data": {
      "text/plain": [
       "Total Spent\n",
       "6.0     1019\n",
       "12.0     996\n",
       "4.0      969\n",
       "3.0      968\n",
       "20.0     789\n",
       "15.0     766\n",
       "8.0      720\n",
       "10.0     542\n",
       "2.0      518\n",
       "9.0      510\n",
       "5.0      496\n",
       "16.0     466\n",
       "25.0     269\n",
       "7.5      250\n",
       "1.0      249\n",
       "4.5      238\n",
       "1.5      212\n",
       "Name: count, dtype: int64"
      ]
     },
     "execution_count": 140,
     "metadata": {},
     "output_type": "execute_result"
    }
   ],
   "source": [
    "# Count 'Total Spent' Values\n",
    "# Note : 0's are missing values\n",
    "cafeData['Total Spent'].value_counts()"
   ]
  },
  {
   "cell_type": "markdown",
   "id": "c4ad9e11",
   "metadata": {},
   "source": [
    "## Step 6: Export the data\n"
   ]
  },
  {
   "cell_type": "code",
   "execution_count": 141,
   "id": "f3f55b1f",
   "metadata": {},
   "outputs": [],
   "source": [
    "# Export the dataframe as a new csv file\n",
    "cafeData.to_csv('clean_cafe_sales.csv', index=False)"
   ]
  },
  {
   "cell_type": "code",
   "execution_count": null,
   "id": "8116cf24",
   "metadata": {},
   "outputs": [],
   "source": []
  }
 ],
 "metadata": {
  "kernelspec": {
   "display_name": "base",
   "language": "python",
   "name": "python3"
  },
  "language_info": {
   "codemirror_mode": {
    "name": "ipython",
    "version": 3
   },
   "file_extension": ".py",
   "mimetype": "text/x-python",
   "name": "python",
   "nbconvert_exporter": "python",
   "pygments_lexer": "ipython3",
   "version": "3.12.9"
  }
 },
 "nbformat": 4,
 "nbformat_minor": 5
}
