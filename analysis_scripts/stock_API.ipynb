{
 "cells": [
  {
   "cell_type": "code",
   "execution_count": null,
   "id": "836e25a1",
   "metadata": {},
   "outputs": [
    {
     "name": "stdout",
     "output_type": "stream",
     "text": [
      "Requirement already satisfied: yfinance in /opt/miniconda3/envs/data-analysis-env/lib/python3.9/site-packages (0.2.62)\n",
      "Requirement already satisfied: pandas>=1.3.0 in /opt/miniconda3/envs/data-analysis-env/lib/python3.9/site-packages (from yfinance) (2.2.3)\n",
      "Requirement already satisfied: numpy>=1.16.5 in /opt/miniconda3/envs/data-analysis-env/lib/python3.9/site-packages (from yfinance) (2.0.2)\n",
      "Requirement already satisfied: requests>=2.31 in /opt/miniconda3/envs/data-analysis-env/lib/python3.9/site-packages (from yfinance) (2.32.3)\n",
      "Requirement already satisfied: multitasking>=0.0.7 in /opt/miniconda3/envs/data-analysis-env/lib/python3.9/site-packages (from yfinance) (0.0.11)\n",
      "Requirement already satisfied: platformdirs>=2.0.0 in /opt/miniconda3/envs/data-analysis-env/lib/python3.9/site-packages (from yfinance) (4.3.7)\n",
      "Requirement already satisfied: pytz>=2022.5 in /opt/miniconda3/envs/data-analysis-env/lib/python3.9/site-packages (from yfinance) (2025.2)\n",
      "Requirement already satisfied: frozendict>=2.3.4 in /opt/miniconda3/envs/data-analysis-env/lib/python3.9/site-packages (from yfinance) (2.4.6)\n",
      "Requirement already satisfied: peewee>=3.16.2 in /opt/miniconda3/envs/data-analysis-env/lib/python3.9/site-packages (from yfinance) (3.18.1)\n",
      "Requirement already satisfied: beautifulsoup4>=4.11.1 in /opt/miniconda3/envs/data-analysis-env/lib/python3.9/site-packages (from yfinance) (4.13.4)\n",
      "Requirement already satisfied: curl_cffi>=0.7 in /opt/miniconda3/envs/data-analysis-env/lib/python3.9/site-packages (from yfinance) (0.11.3)\n",
      "Requirement already satisfied: protobuf>=3.19.0 in /opt/miniconda3/envs/data-analysis-env/lib/python3.9/site-packages (from yfinance) (6.31.1)\n",
      "Requirement already satisfied: websockets>=13.0 in /opt/miniconda3/envs/data-analysis-env/lib/python3.9/site-packages (from yfinance) (15.0.1)\n",
      "Requirement already satisfied: soupsieve>1.2 in /opt/miniconda3/envs/data-analysis-env/lib/python3.9/site-packages (from beautifulsoup4>=4.11.1->yfinance) (2.5)\n",
      "Requirement already satisfied: typing-extensions>=4.0.0 in /opt/miniconda3/envs/data-analysis-env/lib/python3.9/site-packages (from beautifulsoup4>=4.11.1->yfinance) (4.13.2)\n",
      "Requirement already satisfied: cffi>=1.12.0 in /opt/miniconda3/envs/data-analysis-env/lib/python3.9/site-packages (from curl_cffi>=0.7->yfinance) (1.17.1)\n",
      "Requirement already satisfied: certifi>=2024.2.2 in /opt/miniconda3/envs/data-analysis-env/lib/python3.9/site-packages (from curl_cffi>=0.7->yfinance) (2025.1.31)\n",
      "Requirement already satisfied: python-dateutil>=2.8.2 in /opt/miniconda3/envs/data-analysis-env/lib/python3.9/site-packages (from pandas>=1.3.0->yfinance) (2.9.0.post0)\n",
      "Requirement already satisfied: tzdata>=2022.7 in /opt/miniconda3/envs/data-analysis-env/lib/python3.9/site-packages (from pandas>=1.3.0->yfinance) (2025.2)\n",
      "Requirement already satisfied: charset_normalizer<4,>=2 in /opt/miniconda3/envs/data-analysis-env/lib/python3.9/site-packages (from requests>=2.31->yfinance) (3.4.1)\n",
      "Requirement already satisfied: idna<4,>=2.5 in /opt/miniconda3/envs/data-analysis-env/lib/python3.9/site-packages (from requests>=2.31->yfinance) (3.10)\n",
      "Requirement already satisfied: urllib3<3,>=1.21.1 in /opt/miniconda3/envs/data-analysis-env/lib/python3.9/site-packages (from requests>=2.31->yfinance) (2.4.0)\n",
      "Requirement already satisfied: pycparser in /opt/miniconda3/envs/data-analysis-env/lib/python3.9/site-packages (from cffi>=1.12.0->curl_cffi>=0.7->yfinance) (2.22)\n",
      "Requirement already satisfied: six>=1.5 in /opt/miniconda3/envs/data-analysis-env/lib/python3.9/site-packages (from python-dateutil>=2.8.2->pandas>=1.3.0->yfinance) (1.17.0)\n",
      "Note: you may need to restart the kernel to use updated packages.\n"
     ]
    }
   ],
   "source": [
    "pip install yfinance"
   ]
  },
  {
   "cell_type": "code",
   "execution_count": 1,
   "id": "00e2d1af",
   "metadata": {},
   "outputs": [],
   "source": [
    "import yfinance as yf\n",
    "import pandas as pd\n",
    "import numpy as np"
   ]
  },
  {
   "cell_type": "code",
   "execution_count": 34,
   "id": "1459979d",
   "metadata": {},
   "outputs": [
    {
     "name": "stdout",
     "output_type": "stream",
     "text": [
      "Percent Change Over 2 Years 140.59%\n",
      "RBLX Stock Evaluation Score: 10\n",
      "!WARNING!: This is not financial advice. Always conduct research before you purchase stocks\n"
     ]
    },
    {
     "name": "stderr",
     "output_type": "stream",
     "text": [
      "/var/folders/gs/yv3dj4zx2tgdd5tw701ypspm0000gp/T/ipykernel_5340/831137977.py:5: FutureWarning: Series.__getitem__ treating keys as positions is deprecated. In a future version, integer keys will always be treated as labels (consistent with DataFrame behavior). To access a value by position, use `ser.iloc[pos]`\n",
      "  x = df['Close'][-1] - df['Close'][0]\n",
      "/var/folders/gs/yv3dj4zx2tgdd5tw701ypspm0000gp/T/ipykernel_5340/831137977.py:6: FutureWarning: Series.__getitem__ treating keys as positions is deprecated. In a future version, integer keys will always be treated as labels (consistent with DataFrame behavior). To access a value by position, use `ser.iloc[pos]`\n",
      "  perc_change = x/ df['Close'][0] * 100\n"
     ]
    }
   ],
   "source": [
    "user_ticker = input('pick a ticker)')\n",
    "stock_for_analysis_choice = yf.Ticker(user_ticker)\n",
    "stock_hist = stock_for_analysis_choice.history(period='2y')\n",
    "df = pd.DataFrame(stock_hist)\n",
    "x = df['Close'][-1] - df['Close'][0]\n",
    "perc_change = x/ df['Close'][0] * 100\n",
    "\n",
    "# print('Percent Change Over 2 Years', f\"{perc_change:.2f}%\")\n",
    "# print('Percent Change Over 2 Years', f\"{perc_change:.2f}%\", \"Rating: 1/10\")\n",
    "\n",
    "score = 0\n",
    "if perc_change <= 10:\n",
    "    score = score\n",
    "if 11 <= perc_change <= 20:\n",
    "     score = score + 1\n",
    "if 21 <= perc_change <= 30:\n",
    "     score = score + 2\n",
    "if 31 <= perc_change <= 40:\n",
    "     score = score + 3\n",
    "if 41 <= perc_change <= 50:\n",
    "     score = score + 4\n",
    "if 51 <= perc_change <= 60:\n",
    "     score = score + 5\n",
    "if 61 <= perc_change <= 70:\n",
    "     score = score + 6\n",
    "if 71 <= perc_change <= 80:\n",
    "     score = score + 7\n",
    "if 81 <= perc_change <= 90:\n",
    "     score = score + 8\n",
    "if 91 <= perc_change <= 100:\n",
    "     score = score + 9\n",
    "if 100 <= perc_change:\n",
    "     score = score + 10\n",
    "\n",
    "print('Percent Change Over 2 Years', f\"{perc_change:.2f}%\")\n",
    "print(user_ticker, 'Stock Evaluation Score:', score)\n",
    "print('!WARNING!: This is not financial advice. Always conduct research before you purchase stocks')\n",
    "\n",
    "\n",
    "\n"
   ]
  },
  {
   "cell_type": "code",
   "execution_count": null,
   "id": "3b1bc17f",
   "metadata": {},
   "outputs": [
    {
     "name": "stdout",
     "output_type": "stream",
     "text": [
      "Percent Change Over 2 Years 10.99%\n"
     ]
    },
    {
     "name": "stderr",
     "output_type": "stream",
     "text": [
      "/var/folders/gs/yv3dj4zx2tgdd5tw701ypspm0000gp/T/ipykernel_5340/1217670221.py:4: FutureWarning: Series.__getitem__ treating keys as positions is deprecated. In a future version, integer keys will always be treated as labels (consistent with DataFrame behavior). To access a value by position, use `ser.iloc[pos]`\n",
      "  x = df['Close'][-1] - df['Close'][0]\n",
      "/var/folders/gs/yv3dj4zx2tgdd5tw701ypspm0000gp/T/ipykernel_5340/1217670221.py:5: FutureWarning: Series.__getitem__ treating keys as positions is deprecated. In a future version, integer keys will always be treated as labels (consistent with DataFrame behavior). To access a value by position, use `ser.iloc[pos]`\n",
      "  perc_change = x/ df['Close'][0] * 100\n"
     ]
    }
   ],
   "source": [
    "# practice\n",
    "\n",
    "AAPL_stock = yf.Ticker('AAPL')\n",
    "AAPL_2y = AAPL_stock.history(period='2y')\n",
    "df = pd.DataFrame(AAPL_2y)\n",
    "x = df['Close'][-1] - df['Close'][0]\n",
    "perc_change = x/ df['Close'][0] * 100\n",
    "print('Percent Change Over 2 Years', f\"{perc_change:.2f}%\")"
   ]
  },
  {
   "cell_type": "code",
   "execution_count": null,
   "id": "30088eb1",
   "metadata": {},
   "outputs": [
    {
     "name": "stdout",
     "output_type": "stream",
     "text": [
      "                                 Open        High         Low       Close  \\\n",
      "Date                                                                        \n",
      "2023-06-12 00:00:00-04:00  179.473040  182.067063  179.176011  181.968048   \n",
      "2023-06-13 00:00:00-04:00  180.987905  182.324513  180.631473  181.492844   \n",
      "2023-06-14 00:00:00-04:00  181.552258  182.562151  180.215650  182.126511   \n",
      "2023-06-15 00:00:00-04:00  182.136410  184.671031  181.958187  184.166077   \n",
      "2023-06-16 00:00:00-04:00  184.878923  185.136355  182.443318  183.086868   \n",
      "...                               ...         ...         ...         ...   \n",
      "2025-06-04 00:00:00-04:00  202.910004  206.240005  202.100006  202.820007   \n",
      "2025-06-05 00:00:00-04:00  203.500000  204.750000  200.149994  200.630005   \n",
      "2025-06-06 00:00:00-04:00  203.000000  205.699997  202.050003  203.919998   \n",
      "2025-06-09 00:00:00-04:00  204.389999  206.000000  200.020004  201.449997   \n",
      "2025-06-10 00:00:00-04:00  200.600006  204.350006  200.570007  202.258499   \n",
      "\n",
      "                              Volume  Dividends  Stock Splits  \n",
      "Date                                                           \n",
      "2023-06-12 00:00:00-04:00   54274900        0.0           0.0  \n",
      "2023-06-13 00:00:00-04:00   54929100        0.0           0.0  \n",
      "2023-06-14 00:00:00-04:00   57462900        0.0           0.0  \n",
      "2023-06-15 00:00:00-04:00   65433200        0.0           0.0  \n",
      "2023-06-16 00:00:00-04:00  101235600        0.0           0.0  \n",
      "...                              ...        ...           ...  \n",
      "2025-06-04 00:00:00-04:00   43604000        0.0           0.0  \n",
      "2025-06-05 00:00:00-04:00   55126100        0.0           0.0  \n",
      "2025-06-06 00:00:00-04:00   46607700        0.0           0.0  \n",
      "2025-06-09 00:00:00-04:00   72726700        0.0           0.0  \n",
      "2025-06-10 00:00:00-04:00   34676982        0.0           0.0  \n",
      "\n",
      "[501 rows x 7 columns]\n"
     ]
    }
   ],
   "source": [
    "# practice\n",
    "AAPL_stock = yf.Ticker('AAPL')\n",
    "AAPL_2y = AAPL_stock.history(period='2y')\n",
    "print(AAPL_2y)"
   ]
  },
  {
   "cell_type": "code",
   "execution_count": null,
   "id": "184c0dcc",
   "metadata": {},
   "outputs": [
    {
     "name": "stdout",
     "output_type": "stream",
     "text": [
      "                 index                      0\n",
      "0             address1      One Microsoft Way\n",
      "1                 city                Redmond\n",
      "2                state                     WA\n",
      "3                  zip             98052-6399\n",
      "4              country          United States\n",
      "..                 ...                    ...\n",
      "171  regularMarketTime             1749581660\n",
      "172          shortName  Microsoft Corporation\n",
      "173           longName  Microsoft Corporation\n",
      "174        displayName              Microsoft\n",
      "175   trailingPegRatio                 2.2173\n",
      "\n",
      "[176 rows x 2 columns]\n"
     ]
    }
   ],
   "source": [
    "# practice\n",
    "microsoft = yf.Ticker('MSFT')\n",
    "dict =  microsoft.info\n",
    "df = pd.DataFrame.from_dict(dict,orient='index')\n",
    "df = df.reset_index()\n",
    "print(df)"
   ]
  },
  {
   "cell_type": "code",
   "execution_count": null,
   "id": "b00aadab",
   "metadata": {},
   "outputs": [],
   "source": []
  }
 ],
 "metadata": {
  "kernelspec": {
   "display_name": "data-analysis-env",
   "language": "python",
   "name": "python3"
  },
  "language_info": {
   "codemirror_mode": {
    "name": "ipython",
    "version": 3
   },
   "file_extension": ".py",
   "mimetype": "text/x-python",
   "name": "python",
   "nbconvert_exporter": "python",
   "pygments_lexer": "ipython3",
   "version": "3.9.22"
  }
 },
 "nbformat": 4,
 "nbformat_minor": 5
}
