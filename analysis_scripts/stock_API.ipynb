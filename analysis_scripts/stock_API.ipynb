{
 "cells": [
  {
   "cell_type": "code",
   "execution_count": null,
   "id": "836e25a1",
   "metadata": {},
   "outputs": [
    {
     "name": "stdout",
     "output_type": "stream",
     "text": [
      "Requirement already satisfied: yfinance in /opt/miniconda3/envs/data-analysis-env/lib/python3.9/site-packages (0.2.62)\n",
      "Requirement already satisfied: pandas>=1.3.0 in /opt/miniconda3/envs/data-analysis-env/lib/python3.9/site-packages (from yfinance) (2.2.3)\n",
      "Requirement already satisfied: numpy>=1.16.5 in /opt/miniconda3/envs/data-analysis-env/lib/python3.9/site-packages (from yfinance) (2.0.2)\n",
      "Requirement already satisfied: requests>=2.31 in /opt/miniconda3/envs/data-analysis-env/lib/python3.9/site-packages (from yfinance) (2.32.3)\n",
      "Requirement already satisfied: multitasking>=0.0.7 in /opt/miniconda3/envs/data-analysis-env/lib/python3.9/site-packages (from yfinance) (0.0.11)\n",
      "Requirement already satisfied: platformdirs>=2.0.0 in /opt/miniconda3/envs/data-analysis-env/lib/python3.9/site-packages (from yfinance) (4.3.7)\n",
      "Requirement already satisfied: pytz>=2022.5 in /opt/miniconda3/envs/data-analysis-env/lib/python3.9/site-packages (from yfinance) (2025.2)\n",
      "Requirement already satisfied: frozendict>=2.3.4 in /opt/miniconda3/envs/data-analysis-env/lib/python3.9/site-packages (from yfinance) (2.4.6)\n",
      "Requirement already satisfied: peewee>=3.16.2 in /opt/miniconda3/envs/data-analysis-env/lib/python3.9/site-packages (from yfinance) (3.18.1)\n",
      "Requirement already satisfied: beautifulsoup4>=4.11.1 in /opt/miniconda3/envs/data-analysis-env/lib/python3.9/site-packages (from yfinance) (4.13.4)\n",
      "Requirement already satisfied: curl_cffi>=0.7 in /opt/miniconda3/envs/data-analysis-env/lib/python3.9/site-packages (from yfinance) (0.11.3)\n",
      "Requirement already satisfied: protobuf>=3.19.0 in /opt/miniconda3/envs/data-analysis-env/lib/python3.9/site-packages (from yfinance) (6.31.1)\n",
      "Requirement already satisfied: websockets>=13.0 in /opt/miniconda3/envs/data-analysis-env/lib/python3.9/site-packages (from yfinance) (15.0.1)\n",
      "Requirement already satisfied: soupsieve>1.2 in /opt/miniconda3/envs/data-analysis-env/lib/python3.9/site-packages (from beautifulsoup4>=4.11.1->yfinance) (2.5)\n",
      "Requirement already satisfied: typing-extensions>=4.0.0 in /opt/miniconda3/envs/data-analysis-env/lib/python3.9/site-packages (from beautifulsoup4>=4.11.1->yfinance) (4.13.2)\n",
      "Requirement already satisfied: cffi>=1.12.0 in /opt/miniconda3/envs/data-analysis-env/lib/python3.9/site-packages (from curl_cffi>=0.7->yfinance) (1.17.1)\n",
      "Requirement already satisfied: certifi>=2024.2.2 in /opt/miniconda3/envs/data-analysis-env/lib/python3.9/site-packages (from curl_cffi>=0.7->yfinance) (2025.1.31)\n",
      "Requirement already satisfied: python-dateutil>=2.8.2 in /opt/miniconda3/envs/data-analysis-env/lib/python3.9/site-packages (from pandas>=1.3.0->yfinance) (2.9.0.post0)\n",
      "Requirement already satisfied: tzdata>=2022.7 in /opt/miniconda3/envs/data-analysis-env/lib/python3.9/site-packages (from pandas>=1.3.0->yfinance) (2025.2)\n",
      "Requirement already satisfied: charset_normalizer<4,>=2 in /opt/miniconda3/envs/data-analysis-env/lib/python3.9/site-packages (from requests>=2.31->yfinance) (3.4.1)\n",
      "Requirement already satisfied: idna<4,>=2.5 in /opt/miniconda3/envs/data-analysis-env/lib/python3.9/site-packages (from requests>=2.31->yfinance) (3.10)\n",
      "Requirement already satisfied: urllib3<3,>=1.21.1 in /opt/miniconda3/envs/data-analysis-env/lib/python3.9/site-packages (from requests>=2.31->yfinance) (2.4.0)\n",
      "Requirement already satisfied: pycparser in /opt/miniconda3/envs/data-analysis-env/lib/python3.9/site-packages (from cffi>=1.12.0->curl_cffi>=0.7->yfinance) (2.22)\n",
      "Requirement already satisfied: six>=1.5 in /opt/miniconda3/envs/data-analysis-env/lib/python3.9/site-packages (from python-dateutil>=2.8.2->pandas>=1.3.0->yfinance) (1.17.0)\n",
      "Note: you may need to restart the kernel to use updated packages.\n"
     ]
    }
   ],
   "source": [
    "pip install yfinance"
   ]
  },
  {
   "cell_type": "code",
   "execution_count": 1,
   "id": "00e2d1af",
   "metadata": {},
   "outputs": [],
   "source": [
    "import yfinance as yf\n",
    "import pandas as pd\n",
    "import numpy as np"
   ]
  },
  {
   "cell_type": "code",
   "execution_count": 38,
   "id": "1459979d",
   "metadata": {},
   "outputs": [],
   "source": [
    "user_ticker = input('pick a ticker)')\n",
    "stock_for_analysis_choice = yf.Ticker(user_ticker)\n",
    "stock_hist = stock_for_analysis_choice.history(period='2y')\n"
   ]
  },
  {
   "cell_type": "code",
   "execution_count": 53,
   "id": "3b1bc17f",
   "metadata": {},
   "outputs": [],
   "source": [
    "AAPL_stock = yf.Ticker('AAPL')\n",
    "AAPL_sector = yf.Sector('AAPL')\n"
   ]
  },
  {
   "cell_type": "code",
   "execution_count": null,
   "id": "30088eb1",
   "metadata": {},
   "outputs": [],
   "source": []
  },
  {
   "cell_type": "code",
   "execution_count": null,
   "id": "184c0dcc",
   "metadata": {},
   "outputs": [],
   "source": []
  }
 ],
 "metadata": {
  "kernelspec": {
   "display_name": "data-analysis-env",
   "language": "python",
   "name": "python3"
  },
  "language_info": {
   "codemirror_mode": {
    "name": "ipython",
    "version": 3
   },
   "file_extension": ".py",
   "mimetype": "text/x-python",
   "name": "python",
   "nbconvert_exporter": "python",
   "pygments_lexer": "ipython3",
   "version": "3.9.22"
  }
 },
 "nbformat": 4,
 "nbformat_minor": 5
}
